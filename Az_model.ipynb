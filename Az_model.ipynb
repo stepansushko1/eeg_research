{
  "cells": [
    {
      "cell_type": "code",
      "source": [
        "from google.colab import drive\n",
        "drive.mount('/content/drive', force_remount=True)"
      ],
      "metadata": {
        "colab": {
          "base_uri": "https://localhost:8080/"
        },
        "id": "X6r_EgvyNhOk",
        "outputId": "0a019868-b442-4e97-da9b-8a9681bbf14e"
      },
      "id": "X6r_EgvyNhOk",
      "execution_count": 220,
      "outputs": [
        {
          "output_type": "stream",
          "name": "stdout",
          "text": [
            "Mounted at /content/drive\n"
          ]
        }
      ]
    },
    {
      "cell_type": "code",
      "execution_count": 223,
      "id": "9d118220-1fde-4437-8e9e-cc23e66c35b9",
      "metadata": {
        "tags": [],
        "id": "9d118220-1fde-4437-8e9e-cc23e66c35b9"
      },
      "outputs": [],
      "source": [
        "processed_data = \"/content/drive/MyDrive/DATA_AZIMUTHAL/cnn_2_data\""
      ]
    },
    {
      "cell_type": "code",
      "execution_count": 3,
      "id": "38c88fee-4263-4769-b6ee-5bdd0195cb14",
      "metadata": {
        "tags": [],
        "id": "38c88fee-4263-4769-b6ee-5bdd0195cb14"
      },
      "outputs": [],
      "source": [
        "import numpy as np"
      ]
    },
    {
      "cell_type": "code",
      "source": [
        "import zipfile"
      ],
      "metadata": {
        "id": "aYkmMSi_8NSG"
      },
      "id": "aYkmMSi_8NSG",
      "execution_count": 4,
      "outputs": []
    },
    {
      "cell_type": "code",
      "source": [
        "with zipfile.ZipFile(processed_data, 'r') as zip_ref:\n",
        "  zip_ref.extractall('/content/drive/MyDrive/DATA_AZIMUTHAL/')"
      ],
      "metadata": {
        "id": "FFe9NRFg8Jk5"
      },
      "id": "FFe9NRFg8Jk5",
      "execution_count": 222,
      "outputs": []
    },
    {
      "cell_type": "code",
      "source": [
        "import pandas as pd\n",
        "df = pd.read_csv('/content/drive/MyDrive/DATA_AZIMUTHAL/cnn2_labels.csv')\n",
        "df.head()"
      ],
      "metadata": {
        "colab": {
          "base_uri": "https://localhost:8080/",
          "height": 201
        },
        "id": "lkCXLVjO-bSq",
        "outputId": "d94af4eb-5c6f-4246-d00d-75b5a3438773"
      },
      "id": "lkCXLVjO-bSq",
      "execution_count": 224,
      "outputs": [
        {
          "output_type": "execute_result",
          "data": {
            "text/plain": [
              "                      Image Label_Exhaustion Label_Resistance  Label_Tension\n",
              "0  azo_img0_20240429_055141    Not Diagnosed            Issue  Not Diagnosed\n",
              "1  azo_img1_20240429_055141    Not Diagnosed            Issue  Not Diagnosed\n",
              "2  azo_img2_20240429_055141    Not Diagnosed            Issue  Not Diagnosed\n",
              "3  ale_img0_20240429_055141    Not Diagnosed    Not Diagnosed  Not Diagnosed\n",
              "4  ale_img1_20240429_055141    Not Diagnosed    Not Diagnosed  Not Diagnosed"
            ],
            "text/html": [
              "\n",
              "  <div id=\"df-38f8180a-3de8-467d-aa76-47bdf744fa6b\" class=\"colab-df-container\">\n",
              "    <div>\n",
              "<style scoped>\n",
              "    .dataframe tbody tr th:only-of-type {\n",
              "        vertical-align: middle;\n",
              "    }\n",
              "\n",
              "    .dataframe tbody tr th {\n",
              "        vertical-align: top;\n",
              "    }\n",
              "\n",
              "    .dataframe thead th {\n",
              "        text-align: right;\n",
              "    }\n",
              "</style>\n",
              "<table border=\"1\" class=\"dataframe\">\n",
              "  <thead>\n",
              "    <tr style=\"text-align: right;\">\n",
              "      <th></th>\n",
              "      <th>Image</th>\n",
              "      <th>Label_Exhaustion</th>\n",
              "      <th>Label_Resistance</th>\n",
              "      <th>Label_Tension</th>\n",
              "    </tr>\n",
              "  </thead>\n",
              "  <tbody>\n",
              "    <tr>\n",
              "      <th>0</th>\n",
              "      <td>azo_img0_20240429_055141</td>\n",
              "      <td>Not Diagnosed</td>\n",
              "      <td>Issue</td>\n",
              "      <td>Not Diagnosed</td>\n",
              "    </tr>\n",
              "    <tr>\n",
              "      <th>1</th>\n",
              "      <td>azo_img1_20240429_055141</td>\n",
              "      <td>Not Diagnosed</td>\n",
              "      <td>Issue</td>\n",
              "      <td>Not Diagnosed</td>\n",
              "    </tr>\n",
              "    <tr>\n",
              "      <th>2</th>\n",
              "      <td>azo_img2_20240429_055141</td>\n",
              "      <td>Not Diagnosed</td>\n",
              "      <td>Issue</td>\n",
              "      <td>Not Diagnosed</td>\n",
              "    </tr>\n",
              "    <tr>\n",
              "      <th>3</th>\n",
              "      <td>ale_img0_20240429_055141</td>\n",
              "      <td>Not Diagnosed</td>\n",
              "      <td>Not Diagnosed</td>\n",
              "      <td>Not Diagnosed</td>\n",
              "    </tr>\n",
              "    <tr>\n",
              "      <th>4</th>\n",
              "      <td>ale_img1_20240429_055141</td>\n",
              "      <td>Not Diagnosed</td>\n",
              "      <td>Not Diagnosed</td>\n",
              "      <td>Not Diagnosed</td>\n",
              "    </tr>\n",
              "  </tbody>\n",
              "</table>\n",
              "</div>\n",
              "    <div class=\"colab-df-buttons\">\n",
              "\n",
              "  <div class=\"colab-df-container\">\n",
              "    <button class=\"colab-df-convert\" onclick=\"convertToInteractive('df-38f8180a-3de8-467d-aa76-47bdf744fa6b')\"\n",
              "            title=\"Convert this dataframe to an interactive table.\"\n",
              "            style=\"display:none;\">\n",
              "\n",
              "  <svg xmlns=\"http://www.w3.org/2000/svg\" height=\"24px\" viewBox=\"0 -960 960 960\">\n",
              "    <path d=\"M120-120v-720h720v720H120Zm60-500h600v-160H180v160Zm220 220h160v-160H400v160Zm0 220h160v-160H400v160ZM180-400h160v-160H180v160Zm440 0h160v-160H620v160ZM180-180h160v-160H180v160Zm440 0h160v-160H620v160Z\"/>\n",
              "  </svg>\n",
              "    </button>\n",
              "\n",
              "  <style>\n",
              "    .colab-df-container {\n",
              "      display:flex;\n",
              "      gap: 12px;\n",
              "    }\n",
              "\n",
              "    .colab-df-convert {\n",
              "      background-color: #E8F0FE;\n",
              "      border: none;\n",
              "      border-radius: 50%;\n",
              "      cursor: pointer;\n",
              "      display: none;\n",
              "      fill: #1967D2;\n",
              "      height: 32px;\n",
              "      padding: 0 0 0 0;\n",
              "      width: 32px;\n",
              "    }\n",
              "\n",
              "    .colab-df-convert:hover {\n",
              "      background-color: #E2EBFA;\n",
              "      box-shadow: 0px 1px 2px rgba(60, 64, 67, 0.3), 0px 1px 3px 1px rgba(60, 64, 67, 0.15);\n",
              "      fill: #174EA6;\n",
              "    }\n",
              "\n",
              "    .colab-df-buttons div {\n",
              "      margin-bottom: 4px;\n",
              "    }\n",
              "\n",
              "    [theme=dark] .colab-df-convert {\n",
              "      background-color: #3B4455;\n",
              "      fill: #D2E3FC;\n",
              "    }\n",
              "\n",
              "    [theme=dark] .colab-df-convert:hover {\n",
              "      background-color: #434B5C;\n",
              "      box-shadow: 0px 1px 3px 1px rgba(0, 0, 0, 0.15);\n",
              "      filter: drop-shadow(0px 1px 2px rgba(0, 0, 0, 0.3));\n",
              "      fill: #FFFFFF;\n",
              "    }\n",
              "  </style>\n",
              "\n",
              "    <script>\n",
              "      const buttonEl =\n",
              "        document.querySelector('#df-38f8180a-3de8-467d-aa76-47bdf744fa6b button.colab-df-convert');\n",
              "      buttonEl.style.display =\n",
              "        google.colab.kernel.accessAllowed ? 'block' : 'none';\n",
              "\n",
              "      async function convertToInteractive(key) {\n",
              "        const element = document.querySelector('#df-38f8180a-3de8-467d-aa76-47bdf744fa6b');\n",
              "        const dataTable =\n",
              "          await google.colab.kernel.invokeFunction('convertToInteractive',\n",
              "                                                    [key], {});\n",
              "        if (!dataTable) return;\n",
              "\n",
              "        const docLinkHtml = 'Like what you see? Visit the ' +\n",
              "          '<a target=\"_blank\" href=https://colab.research.google.com/notebooks/data_table.ipynb>data table notebook</a>'\n",
              "          + ' to learn more about interactive tables.';\n",
              "        element.innerHTML = '';\n",
              "        dataTable['output_type'] = 'display_data';\n",
              "        await google.colab.output.renderOutput(dataTable, element);\n",
              "        const docLink = document.createElement('div');\n",
              "        docLink.innerHTML = docLinkHtml;\n",
              "        element.appendChild(docLink);\n",
              "      }\n",
              "    </script>\n",
              "  </div>\n",
              "\n",
              "\n",
              "<div id=\"df-8ce318a6-76f8-4948-ba00-40c64f3c9e85\">\n",
              "  <button class=\"colab-df-quickchart\" onclick=\"quickchart('df-8ce318a6-76f8-4948-ba00-40c64f3c9e85')\"\n",
              "            title=\"Suggest charts\"\n",
              "            style=\"display:none;\">\n",
              "\n",
              "<svg xmlns=\"http://www.w3.org/2000/svg\" height=\"24px\"viewBox=\"0 0 24 24\"\n",
              "     width=\"24px\">\n",
              "    <g>\n",
              "        <path d=\"M19 3H5c-1.1 0-2 .9-2 2v14c0 1.1.9 2 2 2h14c1.1 0 2-.9 2-2V5c0-1.1-.9-2-2-2zM9 17H7v-7h2v7zm4 0h-2V7h2v10zm4 0h-2v-4h2v4z\"/>\n",
              "    </g>\n",
              "</svg>\n",
              "  </button>\n",
              "\n",
              "<style>\n",
              "  .colab-df-quickchart {\n",
              "      --bg-color: #E8F0FE;\n",
              "      --fill-color: #1967D2;\n",
              "      --hover-bg-color: #E2EBFA;\n",
              "      --hover-fill-color: #174EA6;\n",
              "      --disabled-fill-color: #AAA;\n",
              "      --disabled-bg-color: #DDD;\n",
              "  }\n",
              "\n",
              "  [theme=dark] .colab-df-quickchart {\n",
              "      --bg-color: #3B4455;\n",
              "      --fill-color: #D2E3FC;\n",
              "      --hover-bg-color: #434B5C;\n",
              "      --hover-fill-color: #FFFFFF;\n",
              "      --disabled-bg-color: #3B4455;\n",
              "      --disabled-fill-color: #666;\n",
              "  }\n",
              "\n",
              "  .colab-df-quickchart {\n",
              "    background-color: var(--bg-color);\n",
              "    border: none;\n",
              "    border-radius: 50%;\n",
              "    cursor: pointer;\n",
              "    display: none;\n",
              "    fill: var(--fill-color);\n",
              "    height: 32px;\n",
              "    padding: 0;\n",
              "    width: 32px;\n",
              "  }\n",
              "\n",
              "  .colab-df-quickchart:hover {\n",
              "    background-color: var(--hover-bg-color);\n",
              "    box-shadow: 0 1px 2px rgba(60, 64, 67, 0.3), 0 1px 3px 1px rgba(60, 64, 67, 0.15);\n",
              "    fill: var(--button-hover-fill-color);\n",
              "  }\n",
              "\n",
              "  .colab-df-quickchart-complete:disabled,\n",
              "  .colab-df-quickchart-complete:disabled:hover {\n",
              "    background-color: var(--disabled-bg-color);\n",
              "    fill: var(--disabled-fill-color);\n",
              "    box-shadow: none;\n",
              "  }\n",
              "\n",
              "  .colab-df-spinner {\n",
              "    border: 2px solid var(--fill-color);\n",
              "    border-color: transparent;\n",
              "    border-bottom-color: var(--fill-color);\n",
              "    animation:\n",
              "      spin 1s steps(1) infinite;\n",
              "  }\n",
              "\n",
              "  @keyframes spin {\n",
              "    0% {\n",
              "      border-color: transparent;\n",
              "      border-bottom-color: var(--fill-color);\n",
              "      border-left-color: var(--fill-color);\n",
              "    }\n",
              "    20% {\n",
              "      border-color: transparent;\n",
              "      border-left-color: var(--fill-color);\n",
              "      border-top-color: var(--fill-color);\n",
              "    }\n",
              "    30% {\n",
              "      border-color: transparent;\n",
              "      border-left-color: var(--fill-color);\n",
              "      border-top-color: var(--fill-color);\n",
              "      border-right-color: var(--fill-color);\n",
              "    }\n",
              "    40% {\n",
              "      border-color: transparent;\n",
              "      border-right-color: var(--fill-color);\n",
              "      border-top-color: var(--fill-color);\n",
              "    }\n",
              "    60% {\n",
              "      border-color: transparent;\n",
              "      border-right-color: var(--fill-color);\n",
              "    }\n",
              "    80% {\n",
              "      border-color: transparent;\n",
              "      border-right-color: var(--fill-color);\n",
              "      border-bottom-color: var(--fill-color);\n",
              "    }\n",
              "    90% {\n",
              "      border-color: transparent;\n",
              "      border-bottom-color: var(--fill-color);\n",
              "    }\n",
              "  }\n",
              "</style>\n",
              "\n",
              "  <script>\n",
              "    async function quickchart(key) {\n",
              "      const quickchartButtonEl =\n",
              "        document.querySelector('#' + key + ' button');\n",
              "      quickchartButtonEl.disabled = true;  // To prevent multiple clicks.\n",
              "      quickchartButtonEl.classList.add('colab-df-spinner');\n",
              "      try {\n",
              "        const charts = await google.colab.kernel.invokeFunction(\n",
              "            'suggestCharts', [key], {});\n",
              "      } catch (error) {\n",
              "        console.error('Error during call to suggestCharts:', error);\n",
              "      }\n",
              "      quickchartButtonEl.classList.remove('colab-df-spinner');\n",
              "      quickchartButtonEl.classList.add('colab-df-quickchart-complete');\n",
              "    }\n",
              "    (() => {\n",
              "      let quickchartButtonEl =\n",
              "        document.querySelector('#df-8ce318a6-76f8-4948-ba00-40c64f3c9e85 button');\n",
              "      quickchartButtonEl.style.display =\n",
              "        google.colab.kernel.accessAllowed ? 'block' : 'none';\n",
              "    })();\n",
              "  </script>\n",
              "</div>\n",
              "    </div>\n",
              "  </div>\n"
            ],
            "application/vnd.google.colaboratory.intrinsic+json": {
              "type": "dataframe",
              "variable_name": "df",
              "summary": "{\n  \"name\": \"df\",\n  \"rows\": 384,\n  \"fields\": [\n    {\n      \"column\": \"Image\",\n      \"properties\": {\n        \"dtype\": \"string\",\n        \"num_unique_values\": 384,\n        \"samples\": [\n          \"pse_img0_20240429_055225\",\n          \"petr_img0_20240429_055221\",\n          \"chernys_img0_20240429_055240\"\n        ],\n        \"semantic_type\": \"\",\n        \"description\": \"\"\n      }\n    },\n    {\n      \"column\": \"Label_Exhaustion\",\n      \"properties\": {\n        \"dtype\": \"category\",\n        \"num_unique_values\": 2,\n        \"samples\": [\n          \"Issue\",\n          \"Not Diagnosed\"\n        ],\n        \"semantic_type\": \"\",\n        \"description\": \"\"\n      }\n    },\n    {\n      \"column\": \"Label_Resistance\",\n      \"properties\": {\n        \"dtype\": \"category\",\n        \"num_unique_values\": 2,\n        \"samples\": [\n          \"Not Diagnosed\",\n          \"Issue\"\n        ],\n        \"semantic_type\": \"\",\n        \"description\": \"\"\n      }\n    },\n    {\n      \"column\": \"Label_Tension\",\n      \"properties\": {\n        \"dtype\": \"category\",\n        \"num_unique_values\": 2,\n        \"samples\": [\n          \"Issue\",\n          \"Not Diagnosed\"\n        ],\n        \"semantic_type\": \"\",\n        \"description\": \"\"\n      }\n    }\n  ]\n}"
            }
          },
          "metadata": {},
          "execution_count": 224
        }
      ]
    },
    {
      "cell_type": "code",
      "source": [
        "import os\n",
        "import numpy as np\n",
        "X = []\n",
        "for file_name in df['Image']:\n",
        "  path = os.path.join(processed_data,f\"{file_name}.npy\")\n",
        "\n",
        "  img = np.load(path)\n",
        "  X.append(img)\n",
        "\n",
        "X = np.stack(X)"
      ],
      "metadata": {
        "id": "-buXeMj6_qKl"
      },
      "id": "-buXeMj6_qKl",
      "execution_count": 225,
      "outputs": []
    },
    {
      "cell_type": "code",
      "source": [
        "X.shape"
      ],
      "metadata": {
        "colab": {
          "base_uri": "https://localhost:8080/"
        },
        "id": "sVu4qQhdjpkt",
        "outputId": "23a79b9d-adad-40d5-a1d0-0176d9be35ca"
      },
      "id": "sVu4qQhdjpkt",
      "execution_count": 226,
      "outputs": [
        {
          "output_type": "execute_result",
          "data": {
            "text/plain": [
              "(384, 64, 64, 3)"
            ]
          },
          "metadata": {},
          "execution_count": 226
        }
      ]
    },
    {
      "cell_type": "code",
      "source": [
        "df"
      ],
      "metadata": {
        "id": "Q01E8zknfo04"
      },
      "id": "Q01E8zknfo04",
      "execution_count": null,
      "outputs": []
    },
    {
      "cell_type": "code",
      "source": [
        "y = df['Label_Resistance']"
      ],
      "metadata": {
        "id": "-W9scGg6NmNn"
      },
      "id": "-W9scGg6NmNn",
      "execution_count": 108,
      "outputs": []
    },
    {
      "cell_type": "code",
      "execution_count": 109,
      "id": "c6fa051b-1a2f-4921-93e5-438d9c598b94",
      "metadata": {
        "tags": [],
        "colab": {
          "base_uri": "https://localhost:8080/",
          "height": 448
        },
        "id": "c6fa051b-1a2f-4921-93e5-438d9c598b94",
        "outputId": "993cda26-c11a-4d4e-edba-def502f3e3aa"
      },
      "outputs": [
        {
          "output_type": "stream",
          "name": "stderr",
          "text": [
            "WARNING:matplotlib.image:Clipping input data to the valid range for imshow with RGB data ([0..1] for floats or [0..255] for integers).\n"
          ]
        },
        {
          "output_type": "display_data",
          "data": {
            "text/plain": [
              "<Figure size 640x480 with 1 Axes>"
            ],
            "image/png": "[encoded data removed]"
          },
          "metadata": {}
        }
      ],
      "source": [
        "import matplotlib.pyplot as plt\n",
        "import numpy as np\n",
        "\n",
        "# Create some data\n",
        "x = X[5]\n",
        "\n",
        "# Plot the data\n",
        "plt.imshow(x)\n",
        "plt.show()"
      ]
    },
    {
      "cell_type": "code",
      "source": [
        "# Create some data\n",
        "x = X[10]\n",
        "\n",
        "# Plot the data\n",
        "plt.imshow(x)\n",
        "plt.show()"
      ],
      "metadata": {
        "id": "kUFM_BO9j7Sy"
      },
      "id": "kUFM_BO9j7Sy",
      "execution_count": null,
      "outputs": []
    },
    {
      "cell_type": "code",
      "execution_count": 229,
      "id": "4151a773-f894-4b9f-9aa6-b9fa65f63646",
      "metadata": {
        "tags": [],
        "colab": {
          "base_uri": "https://localhost:8080/"
        },
        "id": "4151a773-f894-4b9f-9aa6-b9fa65f63646",
        "outputId": "e154595b-b8ce-47f3-9519-4ee151d9f759"
      },
      "outputs": [
        {
          "output_type": "stream",
          "name": "stdout",
          "text": [
            "(384,)\n"
          ]
        }
      ],
      "source": [
        "from sklearn.preprocessing import LabelEncoder\n",
        "# Convert the data to a categorical array\n",
        "le = LabelEncoder()\n",
        "y = le.fit_transform(y)\n",
        "\n",
        "# Print the categorical array\n",
        "print(y.shape)"
      ]
    },
    {
      "cell_type": "markdown",
      "source": [
        "## Imbalanced class"
      ],
      "metadata": {
        "id": "_nlPhHIl8ia0"
      },
      "id": "_nlPhHIl8ia0"
    },
    {
      "cell_type": "code",
      "source": [
        "from sklearn.model_selection import train_test_split\n",
        "from sklearn.utils.class_weight import compute_class_weight\n",
        "from tensorflow.keras.utils import to_categorical\n",
        "X_train, X_test, y_train, y_test = train_test_split(X, y, test_size=0.2, random_state=42)\n",
        "X_train, X_val, y_train, y_val = train_test_split(X_train, y_train, test_size=0.2, random_state=42)\n",
        "print('Train set:', X_train.shape, y_train.shape)\n",
        "print('Validation set:', X_val.shape, y_val.shape)\n",
        "print('Test set:', X_test.shape, y_test.shape)\n",
        "class_weights = compute_class_weight(\n",
        "    class_weight='balanced',\n",
        "    classes=np.unique(y_train),\n",
        "    y=y_train\n",
        ")\n",
        "class_weights_dict = dict(enumerate(class_weights))\n",
        "print(class_weights_dict)"
      ],
      "metadata": {
        "id": "t4aOn6zAbQmz",
        "colab": {
          "base_uri": "https://localhost:8080/"
        },
        "outputId": "7f05a4eb-4136-45a0-a91b-e89e2cfa27cc"
      },
      "id": "t4aOn6zAbQmz",
      "execution_count": 230,
      "outputs": [
        {
          "output_type": "stream",
          "name": "stdout",
          "text": [
            "Train set: (245, 64, 64, 3) (245,)\n",
            "Validation set: (62, 64, 64, 3) (62,)\n",
            "Test set: (77, 64, 64, 3) (77,)\n",
            "{0: 1.2009803921568627, 1: 0.8566433566433567}\n"
          ]
        }
      ]
    },
    {
      "cell_type": "code",
      "source": [
        "num_classes = 2"
      ],
      "metadata": {
        "id": "6bvcT98DQOpa"
      },
      "id": "6bvcT98DQOpa",
      "execution_count": 231,
      "outputs": []
    },
    {
      "cell_type": "code",
      "execution_count": 232,
      "id": "c39a24c9-e5ba-4968-8f58-ec6e45aeaad6",
      "metadata": {
        "tags": [],
        "id": "c39a24c9-e5ba-4968-8f58-ec6e45aeaad6"
      },
      "outputs": [],
      "source": [
        "y_train = to_categorical(y_train, num_classes)\n",
        "y_val = to_categorical(y_val, num_classes)\n",
        "y_test = to_categorical(y_test, num_classes)\n",
        "#Print the shapes of the train, validation, and test sets"
      ]
    },
    {
      "cell_type": "markdown",
      "source": [
        "## Data augmentation"
      ],
      "metadata": {
        "id": "9QZMcVvrXs1z"
      },
      "id": "9QZMcVvrXs1z"
    },
    {
      "cell_type": "code",
      "source": [
        "from keras.preprocessing.image import ImageDataGenerator\n",
        "datagen = ImageDataGenerator(\n",
        "    width_shift_range=0.01,\n",
        "    height_shift_range=0.01,\n",
        "    #rescale=1./255,\n",
        "    fill_mode='nearest'\n",
        ")\n",
        "train_generator = datagen.flow(\n",
        "    X_train, y_train,\n",
        "    batch_size=32  # Batch size to use\n",
        ")\n"
      ],
      "metadata": {
        "id": "qCxrpYNXXxUi"
      },
      "id": "qCxrpYNXXxUi",
      "execution_count": 233,
      "outputs": []
    },
    {
      "cell_type": "markdown",
      "source": [
        "## scale validation data"
      ],
      "metadata": {
        "id": "nXcWnlXo-EIM"
      },
      "id": "nXcWnlXo-EIM"
    },
    {
      "cell_type": "code",
      "source": [
        "X_test = X_test * 255.0\n",
        "X_train = X_train * 255.0"
      ],
      "metadata": {
        "id": "nRM_9mEY-Dzs"
      },
      "id": "nRM_9mEY-Dzs",
      "execution_count": null,
      "outputs": []
    },
    {
      "cell_type": "code",
      "execution_count": 234,
      "id": "8e8665fc-622e-474a-8596-838685a7e903",
      "metadata": {
        "tags": [],
        "id": "8e8665fc-622e-474a-8596-838685a7e903"
      },
      "outputs": [],
      "source": [
        "import tensorflow as tf\n",
        "from keras.models import Sequential\n",
        "from keras.layers import Conv2D, MaxPooling2D, Activation, Flatten, Dense,Dropout,BatchNormalization\n",
        "from keras.regularizers import l2\n",
        "\n",
        "class NetworkArchFonc:\n",
        "    @staticmethod\n",
        "    def build(width, height, depth, num_classes, dropout_p):\n",
        "        # initialize the model\n",
        "        model = Sequential()\n",
        "        inputShape = (height, width, depth)\n",
        "\n",
        "        # if we are using \"channels first\", update the input shape\n",
        "        if tf.keras.backend.image_data_format() == \"channels_first\":\n",
        "            inputShape = (depth, height, width)\n",
        "\n",
        "        # first set of CONV => RELU => POOL layers\n",
        "        model.add(Conv2D(16, (3, 3), padding=\"same\", input_shape=inputShape))\n",
        "        model.add(Activation(\"relu\"))\n",
        "        model.add(MaxPooling2D(pool_size=(2, 2), strides=(2, 2)))\n",
        "        model.add(BatchNormalization())\n",
        "        # second set of CONV => RELU => POOL layers\n",
        "        model.add(Conv2D(32, (3, 3), padding=\"same\"))\n",
        "        model.add(Activation(\"relu\"))\n",
        "        model.add(MaxPooling2D(pool_size=(2, 2), strides=(2, 2)))\n",
        "        model.add(BatchNormalization())\n",
        "\n",
        "        # third set of CONV => RELU => POOL layers\n",
        "\n",
        "        # first (and only) set of FC => RELU layers\n",
        "        model.add(Flatten())\n",
        "        model.add(Dense(500))\n",
        "        model.add(Activation(\"relu\"))\n",
        "        model.add(Dropout(dropout_p))\n",
        "        model.add(Dense(num_classes, activation='softmax'))\n",
        "\n",
        "        # print the model architecture\n",
        "        model.summary()\n",
        "\n",
        "        # return the constructed network architecture\n",
        "        return model\n"
      ]
    },
    {
      "cell_type": "code",
      "source": [
        "gpus = tf.config.experimental.list_physical_devices('GPU')\n",
        "if gpus:\n",
        "    try:\n",
        "        # Currently, memory growth needs to be the same across GPUs\n",
        "        for gpu in gpus:\n",
        "            tf.config.experimental.set_memory_growth(gpu, True)\n",
        "    except RuntimeError as e:\n",
        "        # Memory growth must be set before GPUs have been initialized\n",
        "        print(e)"
      ],
      "metadata": {
        "colab": {
          "base_uri": "https://localhost:8080/"
        },
        "id": "zMUoRXggQ0SY",
        "outputId": "bbfc5a84-81d8-4c8f-ab53-7c23ed93d4ab"
      },
      "id": "zMUoRXggQ0SY",
      "execution_count": 75,
      "outputs": [
        {
          "output_type": "stream",
          "name": "stdout",
          "text": [
            "Physical devices cannot be modified after being initialized\n"
          ]
        }
      ]
    },
    {
      "cell_type": "code",
      "source": [
        "del model"
      ],
      "metadata": {
        "id": "tSGYSXyPeErO"
      },
      "id": "tSGYSXyPeErO",
      "execution_count": 161,
      "outputs": []
    },
    {
      "cell_type": "code",
      "source": [
        "class_weights_dict"
      ],
      "metadata": {
        "colab": {
          "base_uri": "https://localhost:8080/"
        },
        "id": "xvexFod-ykTx",
        "outputId": "6830d309-bd15-4d0a-90ac-2b11b4274907"
      },
      "id": "xvexFod-ykTx",
      "execution_count": 235,
      "outputs": [
        {
          "output_type": "execute_result",
          "data": {
            "text/plain": [
              "{0: 1.2009803921568627, 1: 0.8566433566433567}"
            ]
          },
          "metadata": {},
          "execution_count": 235
        }
      ]
    },
    {
      "cell_type": "code",
      "execution_count": 238,
      "id": "d0d49313-ce22-4f50-b4fc-e6e810a46267",
      "metadata": {
        "tags": [],
        "id": "d0d49313-ce22-4f50-b4fc-e6e810a46267"
      },
      "outputs": [],
      "source": [
        "from tensorflow.keras.optimizers import Adam\n",
        "from tensorflow.keras.optimizers import SGD\n",
        "def hyperparams_tune():\n",
        "\n",
        "  info_training = []\n",
        "  for batch_size in [32,64]:\n",
        "    for dropout in [0, 0.3, 0.5, 0.7]:\n",
        "      for lr in [1e-4, 1e-5]:\n",
        "        for opt in [0, 1]:\n",
        "\n",
        "          model = NetworkArchFonc.build(64,64,2,3, dropout)\n",
        "          # Set initial learning rate and decay\n",
        "          INIT_LR = lr\n",
        "          # Option 1: Basic Adam optimizer with a static learning rate\n",
        "\n",
        "\n",
        "          # Option 2: Adam with learning rate decay using exponential decay schedule\n",
        "          lr_schedule = tf.keras.optimizers.schedules.ExponentialDecay(\n",
        "              initial_learning_rate=INIT_LR,\n",
        "              decay_steps=20,\n",
        "              decay_rate=0.9,\n",
        "              staircase=True)\n",
        "\n",
        "          if opt == 0:\n",
        "            opt1 = Adam(learning_rate=lr_schedule)\n",
        "          else:\n",
        "            opt1 = SGD(learning_rate=lr_schedule)\n",
        "\n",
        "          # Choose the optimizer you'd like to use\n",
        "          model.compile(optimizer=opt1, loss=\"categorical_crossentropy\", metrics=[\"accuracy\"])\n",
        "\n",
        "          from keras.callbacks import EarlyStopping\n",
        "          early_stopping = EarlyStopping(\n",
        "              monitor='val_loss',    # Monitor the validation loss\n",
        "              min_delta=1e-4,        # Minimum change to qualify as an improvement\n",
        "              patience=20,           # Number of epochs to wait for improvement\n",
        "              verbose=2,             # Log when training stops\n",
        "              mode='auto'            # Infer whether to minimize or maximize the monitored quantity\n",
        "          )\n",
        "\n",
        "          epochs = 150\n",
        "          H = model.fit(X_train, y_train,\n",
        "                        batch_size=batch_size,\n",
        "                        epochs=epochs,\n",
        "                        validation_data=(X_val, y_val),\n",
        "                        callbacks=[early_stopping],\n",
        "                        class_weight=class_weights_dict,\n",
        "                        shuffle=True, verbose=2)\n",
        "          del model\n",
        "          info_training.append(f\"For Batch: {batch_size}, Dropout: {dropout}, Learning Rater: {lr}, Opt : {opt} -- Train loss: {H.history['loss'][-1]}, val loss: {H.history['val_loss'][-1]}, train_acc: {H.history['accuracy'][-1]}, val_acc : {H.history['val_accuracy'][-1]}\")\n",
        "  return info_training"
      ]
    },
    {
      "cell_type": "code",
      "source": [
        "info = hyperparams_tune()"
      ],
      "metadata": {
        "id": "l00OCAfvnoa6"
      },
      "id": "l00OCAfvnoa6",
      "execution_count": null,
      "outputs": []
    },
    {
      "cell_type": "code",
      "source": [
        "del model"
      ],
      "metadata": {
        "id": "nCxZkKIllG-D"
      },
      "id": "nCxZkKIllG-D",
      "execution_count": 211,
      "outputs": []
    },
    {
      "cell_type": "code",
      "source": [
        "model = NetworkArchFonc.build(64,64,3,3, 0.5)\n",
        "INIT_LR = 1e-5\n",
        "# Option 1: Basic Adam optimizer with a static learning rate\n",
        "\n",
        "\n",
        "# Option 2: Adam with learning rate decay using exponential decay schedule\n",
        "lr_schedule = tf.keras.optimizers.schedules.ExponentialDecay(\n",
        "    initial_learning_rate=INIT_LR,\n",
        "    decay_steps=20,\n",
        "    decay_rate=0.9,\n",
        "    staircase=True)\n",
        "\n",
        "opt1 = Adam(learning_rate=lr_schedule)\n",
        "\n",
        "\n",
        "# Choose the optimizer you'd like to use\n",
        "model.compile(optimizer=opt1, loss=\"categorical_crossentropy\", metrics=[\"accuracy\"])\n",
        "\n",
        "from keras.callbacks import EarlyStopping\n",
        "early_stopping = EarlyStopping(\n",
        "    monitor='val_loss',    # Monitor the validation loss\n",
        "    min_delta=1e-4,        # Minimum change to qualify as an improvement\n",
        "    patience=20,           # Number of epochs to wait for improvement\n",
        "    verbose=2,             # Log when training stops\n",
        "    mode='auto'            # Infer whether to minimize or maximize the monitored quantity\n",
        ")\n",
        "\n",
        "epochs = 150\n",
        "H = model.fit(X_train, y_train,\n",
        "              batch_size=32,\n",
        "              epochs=epochs,\n",
        "              validation_data=(X_val, y_val),\n",
        "              callbacks=[early_stopping],\n",
        "              class_weight=class_weights_dict,\n",
        "              shuffle=True, verbose=2)"
      ],
      "metadata": {
        "id": "HqmTyZUFezqQ"
      },
      "id": "HqmTyZUFezqQ",
      "execution_count": null,
      "outputs": []
    },
    {
      "cell_type": "code",
      "source": [
        "info"
      ],
      "metadata": {
        "id": "HMPTw_LBeo6F"
      },
      "id": "HMPTw_LBeo6F",
      "execution_count": null,
      "outputs": []
    },
    {
      "cell_type": "code",
      "source": [
        "del model"
      ],
      "metadata": {
        "id": "DZ7kpgbCWbvr"
      },
      "id": "DZ7kpgbCWbvr",
      "execution_count": null,
      "outputs": []
    },
    {
      "cell_type": "code",
      "execution_count": null,
      "id": "739f9389-0dbe-4f84-9841-2bc30ed0b1fe",
      "metadata": {
        "tags": [],
        "id": "739f9389-0dbe-4f84-9841-2bc30ed0b1fe"
      },
      "outputs": [],
      "source": [
        "\n",
        "epochs = 150\n",
        "H = model.fit(X_train, y_train,\n",
        "              batch_size=32,\n",
        "              validation_split=0.2,\n",
        "              epochs=epochs,\n",
        "              validation_data=(X_test, y_test),\n",
        "              callbacks=[early_stopping],\n",
        "              class_weight=class_weights_dict,\n",
        "              shuffle=True, verbose=2)"
      ]
    },
    {
      "cell_type": "code",
      "execution_count": null,
      "id": "acc37c48-b241-441e-a28d-289cb70650b6",
      "metadata": {
        "tags": [],
        "id": "acc37c48-b241-441e-a28d-289cb70650b6"
      },
      "outputs": [],
      "source": [
        "import matplotlib.pyplot as plt\n",
        "\n",
        "plt.figure(figsize=(10, 5))\n",
        "plt.plot(H.history['loss'], label='Training Loss')\n",
        "plt.plot(H.history['val_loss'], label='Validation Loss')\n",
        "plt.title('Model Loss over Epochs')\n",
        "plt.xlabel('Epochs')\n",
        "plt.ylabel('Loss')\n",
        "plt.legend()\n",
        "plt.show()\n"
      ]
    },
    {
      "cell_type": "code",
      "execution_count": null,
      "id": "5ee11135-a487-4da2-a042-feb64713b810",
      "metadata": {
        "tags": [],
        "id": "5ee11135-a487-4da2-a042-feb64713b810"
      },
      "outputs": [],
      "source": [
        "plt.figure(figsize=(10, 5))\n",
        "plt.plot(H.history['accuracy'], label='Training Accuracy')\n",
        "plt.plot(H.history['val_accuracy'], label='Validation Accuracy')\n",
        "plt.title('Model Accuracy over Epochs')\n",
        "plt.xlabel('Epochs')\n",
        "plt.ylabel('Accuracy')\n",
        "plt.legend()\n",
        "plt.show()"
      ]
    },
    {
      "cell_type": "code",
      "execution_count": 215,
      "id": "a49fa3d9-8c80-4c77-bda3-73e84434b254",
      "metadata": {
        "tags": [],
        "colab": {
          "base_uri": "https://localhost:8080/"
        },
        "id": "a49fa3d9-8c80-4c77-bda3-73e84434b254",
        "outputId": "fc0fdf86-e2b6-44c6-f5da-98baedb5ac24"
      },
      "outputs": [
        {
          "output_type": "stream",
          "name": "stdout",
          "text": [
            "3/3 [==============================] - 0s 3ms/step\n",
            "               precision    recall  f1-score   support\n",
            "\n",
            "Not Diagnosed       0.33      0.38      0.36        13\n",
            " Active Phase       0.17      0.40      0.24         5\n",
            " Mental Issue       0.84      0.71      0.77        59\n",
            "\n",
            "     accuracy                           0.64        77\n",
            "    macro avg       0.45      0.50      0.45        77\n",
            " weighted avg       0.71      0.64      0.67        77\n",
            "\n"
          ]
        }
      ],
      "source": [
        "from sklearn.metrics import classification_report, confusion_matrix\n",
        "import numpy as np\n",
        "\n",
        "# Assuming model.predict outputs probabilities for classification tasks\n",
        "predictions = model.predict(X_test)\n",
        "predictions = np.argmax(predictions, axis=1)  # convert from one-hot encoding to class integers\n",
        "\n",
        "# Assuming y_test is also one-hot encoded\n",
        "y_test_labels = np.argmax(y_test, axis=1)\n",
        "\n",
        "print(classification_report(y_test_labels, predictions, target_names=[\"Not Diagnosed\", \"Active Phase\", \"Mental Issue\"]))"
      ]
    },
    {
      "cell_type": "code",
      "execution_count": 31,
      "id": "42a7e559-b9d7-47ad-bee5-0d388b678d42",
      "metadata": {
        "tags": [],
        "id": "42a7e559-b9d7-47ad-bee5-0d388b678d42"
      },
      "outputs": [],
      "source": [
        "import seaborn as sns"
      ]
    },
    {
      "cell_type": "code",
      "execution_count": 216,
      "id": "7301942b-226c-4343-81dd-3fa8e9f7f866",
      "metadata": {
        "tags": [],
        "colab": {
          "base_uri": "https://localhost:8080/",
          "height": 563
        },
        "id": "7301942b-226c-4343-81dd-3fa8e9f7f866",
        "outputId": "b20a2da2-3fd9-4e27-d2c4-3552b062468e"
      },
      "outputs": [
        {
          "output_type": "display_data",
          "data": {
            "text/plain": [
              "<Figure size 800x600 with 2 Axes>"
            ],
            "image/png": "[encoded data removed]"
          },
          "metadata": {}
        }
      ],
      "source": [
        "conf_matrix = confusion_matrix(y_test_labels, predictions)\n",
        "plt.figure(figsize=(8, 6))\n",
        "sns.heatmap(conf_matrix, annot=True, fmt='d', cmap='Blues', xticklabels=[\"Not Diagnosed\", \"Active Phase\", \"Mental Issue\"], yticklabels=[\"Not Diagnosed\", \"Active Phase\", \"Mental Issue\"])\n",
        "plt.ylabel('True Label')\n",
        "plt.xlabel('Predicted Label')\n",
        "plt.title('Confusion Matrix')\n",
        "plt.show()"
      ]
    }
  ],
  "metadata": {
    "kernelspec": {
      "display_name": "Python 3",
      "name": "python3"
    },
    "language_info": {
      "codemirror_mode": {
        "name": "ipython",
        "version": 3
      },
      "file_extension": ".py",
      "mimetype": "text/x-python",
      "name": "python",
      "nbconvert_exporter": "python",
      "pygments_lexer": "ipython3",
      "version": "3.11.5"
    },
    "colab": {
      "provenance": [],
      "machine_shape": "hm",
      "gpuType": "V100"
    },
    "accelerator": "GPU"
  },
  "nbformat": 4,
  "nbformat_minor": 5
}