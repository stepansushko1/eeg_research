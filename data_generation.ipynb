{
  "cells": [
    {
      "cell_type": "code",
      "execution_count": null,
      "metadata": {
        "id": "EfgxCONmciEk",
        "outputId": "a7aed961-4f97-4021-b7ca-4aa2bf99b8b5"
      },
      "outputs": [
        {
          "ename": "ModuleNotFoundError",
          "evalue": "No module named 'yasa'",
          "output_type": "error",
          "traceback": [
            "\u001b[0;31m---------------------------------------------------------------------------\u001b[0m",
            "\u001b[0;31mModuleNotFoundError\u001b[0m                       Traceback (most recent call last)",
            "Cell \u001b[0;32mIn[2], line 3\u001b[0m\n\u001b[1;32m      1\u001b[0m \u001b[38;5;28;01mimport\u001b[39;00m \u001b[38;5;21;01mmne\u001b[39;00m \n\u001b[1;32m      2\u001b[0m \u001b[38;5;28;01mimport\u001b[39;00m \u001b[38;5;21;01mlogging\u001b[39;00m\n\u001b[0;32m----> 3\u001b[0m \u001b[38;5;28;01mimport\u001b[39;00m \u001b[38;5;21;01myasa\u001b[39;00m\n",
            "\u001b[0;31mModuleNotFoundError\u001b[0m: No module named 'yasa'"
          ]
        }
      ],
      "source": [
        "import mne\n",
        "import logging\n",
        "import yasa\n"
      ]
    },
    {
      "cell_type": "code",
      "execution_count": null,
      "metadata": {
        "id": "TWX0zFj7ciEo"
      },
      "outputs": [],
      "source": [
        "mne_logger = logging.getLogger('mne')\n",
        "mne_logger.setLevel(logging.CRITICAL)"
      ]
    },
    {
      "cell_type": "code",
      "execution_count": null,
      "metadata": {
        "id": "FhXIcHWFciEo"
      },
      "outputs": [],
      "source": [
        "data_path = \"dataset\"\n",
        "_asset = \"name_to_target.csv\""
      ]
    },
    {
      "cell_type": "code",
      "execution_count": null,
      "metadata": {
        "id": "EO9FvZf1ciEp",
        "outputId": "2dc301cc-963f-412d-d44f-7f9a3bb31932"
      },
      "outputs": [
        {
          "data": {
            "text/html": [
              "<div>\n",
              "<style scoped>\n",
              "    .dataframe tbody tr th:only-of-type {\n",
              "        vertical-align: middle;\n",
              "    }\n",
              "\n",
              "    .dataframe tbody tr th {\n",
              "        vertical-align: top;\n",
              "    }\n",
              "\n",
              "    .dataframe thead th {\n",
              "        text-align: right;\n",
              "    }\n",
              "</style>\n",
              "<table border=\"1\" class=\"dataframe\">\n",
              "  <thead>\n",
              "    <tr style=\"text-align: right;\">\n",
              "      <th></th>\n",
              "      <th>name</th>\n",
              "      <th>path_file</th>\n",
              "      <th>burnout_Boiko</th>\n",
              "      <th>exhaustion</th>\n",
              "      <th>exhaustion_class</th>\n",
              "      <th>Active_phase</th>\n",
              "    </tr>\n",
              "  </thead>\n",
              "  <tbody>\n",
              "    <tr>\n",
              "      <th>0</th>\n",
              "      <td>azo</td>\n",
              "      <td>C:\\Users\\Administrator\\Downloads\\EEG_DATA\\EEG_...</td>\n",
              "      <td>135.0</td>\n",
              "      <td>33.0</td>\n",
              "      <td>Active Phase</td>\n",
              "      <td>Active Phase</td>\n",
              "    </tr>\n",
              "    <tr>\n",
              "      <th>1</th>\n",
              "      <td>ale</td>\n",
              "      <td>C:\\Users\\Administrator\\Downloads\\EEG_DATA\\EEG_...</td>\n",
              "      <td>64.0</td>\n",
              "      <td>17.0</td>\n",
              "      <td>Not Diagnosed</td>\n",
              "      <td>Not Diagnosed</td>\n",
              "    </tr>\n",
              "    <tr>\n",
              "      <th>2</th>\n",
              "      <td>andri</td>\n",
              "      <td>C:\\Users\\Administrator\\Downloads\\EEG_DATA\\EEG_...</td>\n",
              "      <td>209.0</td>\n",
              "      <td>87.0</td>\n",
              "      <td>Mental Issue</td>\n",
              "      <td>Active Phase</td>\n",
              "    </tr>\n",
              "    <tr>\n",
              "      <th>3</th>\n",
              "      <td>andru</td>\n",
              "      <td>C:\\Users\\Administrator\\Downloads\\EEG_DATA\\EEG_...</td>\n",
              "      <td>126.0</td>\n",
              "      <td>40.0</td>\n",
              "      <td>Active Phase</td>\n",
              "      <td>Active Phase</td>\n",
              "    </tr>\n",
              "    <tr>\n",
              "      <th>4</th>\n",
              "      <td>bas</td>\n",
              "      <td>C:\\Users\\Administrator\\Downloads\\EEG_DATA\\EEG_...</td>\n",
              "      <td>103.0</td>\n",
              "      <td>34.0</td>\n",
              "      <td>Active Phase</td>\n",
              "      <td>Active Phase</td>\n",
              "    </tr>\n",
              "  </tbody>\n",
              "</table>\n",
              "</div>"
            ],
            "text/plain": [
              "    name                                          path_file  burnout_Boiko  \\\n",
              "0    azo  C:\\Users\\Administrator\\Downloads\\EEG_DATA\\EEG_...          135.0   \n",
              "1    ale  C:\\Users\\Administrator\\Downloads\\EEG_DATA\\EEG_...           64.0   \n",
              "2  andri  C:\\Users\\Administrator\\Downloads\\EEG_DATA\\EEG_...          209.0   \n",
              "3  andru  C:\\Users\\Administrator\\Downloads\\EEG_DATA\\EEG_...          126.0   \n",
              "4    bas  C:\\Users\\Administrator\\Downloads\\EEG_DATA\\EEG_...          103.0   \n",
              "\n",
              "   exhaustion exhaustion_class   Active_phase  \n",
              "0        33.0     Active Phase   Active Phase  \n",
              "1        17.0    Not Diagnosed  Not Diagnosed  \n",
              "2        87.0     Mental Issue   Active Phase  \n",
              "3        40.0     Active Phase   Active Phase  \n",
              "4        34.0     Active Phase   Active Phase  "
            ]
          },
          "execution_count": 253,
          "metadata": {},
          "output_type": "execute_result"
        }
      ],
      "source": [
        "import pandas as pd\n",
        "\n",
        "df = pd.read_csv(_asset)\n",
        "df.head()"
      ]
    },
    {
      "cell_type": "code",
      "execution_count": null,
      "metadata": {
        "id": "aBketyFdciEp",
        "outputId": "173b90e5-58f8-499b-f67f-51015e22dff2"
      },
      "outputs": [
        {
          "name": "stdout",
          "output_type": "stream",
          "text": [
            "azo Active Phase\n"
          ]
        }
      ],
      "source": [
        "mapping = dict(zip(df['name'],df['exhaustion_class']))\n",
        "\n",
        "for name,label in mapping.items():\n",
        "    print(name,label)\n",
        "    break"
      ]
    },
    {
      "cell_type": "markdown",
      "metadata": {
        "id": "19jOVpBmciEp"
      },
      "source": [
        "## Image generation"
      ]
    },
    {
      "cell_type": "code",
      "execution_count": null,
      "metadata": {
        "id": "HNXSzPI_ciEq"
      },
      "outputs": [],
      "source": [
        "import numpy as np\n",
        "AZ_PROJ_VALUE = np.array([\n",
        "    [-0.0309026, 0.11458518],\n",
        "    [0.02840949, 0.11534631],\n",
        "    [-0.05180905, 0.0866879],\n",
        "    [0.05027427, 0.08743839],\n",
        "    [-0.07187663, 0.07310353],\n",
        "    [0.07143526, 0.07450512],\n",
        "    [-0.08598209, 0.01487164],\n",
        "    [0.08326136, 0.01525818],\n",
        "    [-0.06714873, 0.02335823],\n",
        "    [0.06532887, 0.0235731],\n",
        "    [-0.07445797, -0.04212316],\n",
        "    [0.07103246, -0.04225998],\n",
        "    [-0.05503824, -0.0442103],\n",
        "    [0.05363601, -0.04433453],\n",
        "    [-0.03157357, -0.08056835],\n",
        "    [0.02768309, -0.08048884],\n",
        "    [-0.00122928, 0.09327445],\n",
        "    [-0.00137414, 0.02761709],\n",
        "    [-0.00170945, -0.04521299]\n",
        "])\n",
        "IMG_RESOLUTION = 64"
      ]
    },
    {
      "cell_type": "code",
      "execution_count": null,
      "metadata": {
        "id": "pPWQxxCyciEr"
      },
      "outputs": [],
      "source": [
        "from sklearn.preprocessing import scale\n",
        "from scipy.interpolate import griddata\n",
        "def augment_EEG(features, std_mult, pca=False, n_components=2):\n",
        "    # Placeholder for EEG data augmentation logic.\n",
        "    # Implement augmentation based on PCA or noise addition as required.\n",
        "    pass\n",
        "\n",
        "def gen_images(features,locs=AZ_PROJ_VALUE, n_gridpoints = IMG_RESOLUTION, normalize=True,\n",
        "               augment=False, pca=False, std_mult=0.1, n_components=2, edgeless=False):\n",
        "    \"\"\"\n",
        "    Generates EEG images given electrode locations in 2D space and multiple feature values for each electrode\n",
        "\n",
        "    :param locs: An array with shape [n_electrodes, 2] containing X, Y\n",
        "                        coordinates for each electrode.\n",
        "    :param features: Feature matrix as [n_samples, n_features]\n",
        "                                Features are as columns.\n",
        "                                Features corresponding to each frequency band are concatenated.\n",
        "                                (alpha1, alpha2, ..., beta1, beta2,...)\n",
        "    :param n_gridpoints: Number of pixels in the output images\n",
        "    :param normalize:   Flag for whether to normalize each band over all samples\n",
        "    :param augment:     Flag for generating augmented images\n",
        "    :param pca:         Flag for PCA based data augmentation\n",
        "    :param std_mult     Multiplier for std of added noise\n",
        "    :param n_components: Number of components in PCA to retain for augmentation\n",
        "    :param edgeless:    If True generates edgeless images by adding artificial channels\n",
        "                        at four corners of the image with value = 0 (default=False).\n",
        "    :return:            Tensor of size [samples, colors, W, H] containing generated\n",
        "                        images.\n",
        "    \"\"\"\n",
        "    feat_array_temp = []\n",
        "    nElectrodes = locs.shape[0]  # Number of electrodes\n",
        "    # Test whether the feature vector length is divisible by number of electrodes\n",
        "    assert features.shape[1] % nElectrodes == 0\n",
        "    n_colors = features.shape[1] // nElectrodes\n",
        "    for c in range(int(n_colors)):\n",
        "        feat_array_temp.append(features[:, c * nElectrodes: nElectrodes * (c + 1)])\n",
        "\n",
        "    nSamples = features.shape[0]\n",
        "    # Interpolate the values\n",
        "    grid_x, grid_y = np.mgrid[\n",
        "                     min(locs[:, 0]):max(locs[:, 0]):n_gridpoints * 1j,\n",
        "                     min(locs[:, 1]):max(locs[:, 1]):n_gridpoints * 1j\n",
        "                     ]\n",
        "    temp_interp = []\n",
        "    for c in range(n_colors):\n",
        "        temp_interp.append(np.zeros([nSamples, n_gridpoints, n_gridpoints]))\n",
        "    # Generate edgeless images\n",
        "    if edgeless:\n",
        "        min_x, min_y = np.min(locs, axis=0)\n",
        "        max_x, max_y = np.max(locs, axis=0)\n",
        "        locs = np.append(locs, np.array([[min_x, min_y], [min_x, max_y], [max_x, min_y], [max_x, max_y]]), axis=0)\n",
        "        for c in range(n_colors):\n",
        "            feat_array_temp[c] = np.append(feat_array_temp[c], np.zeros((nSamples, 4)), axis=1)\n",
        "    # Interpolating\n",
        "    for i in range(nSamples):\n",
        "        for c in range(n_colors):\n",
        "            temp_interp[c][i, :, :] = griddata(locs, feat_array_temp[c][i, :], (grid_x, grid_y),\n",
        "                                               method='cubic', fill_value=np.nan)\n",
        "        print('Interpolating {0}/{1}\\r'.format(i + 1, nSamples), end='\\r')\n",
        "    # Normalizing\n",
        "    for c in range(n_colors):\n",
        "        if normalize:\n",
        "            temp_interp[c][~np.isnan(temp_interp[c])] = \\\n",
        "                scale(temp_interp[c][~np.isnan(temp_interp[c])])\n",
        "        temp_interp[c] = np.nan_to_num(temp_interp[c])\n",
        "    return np.swapaxes(np.asarray(temp_interp), 0, 1)  # swap axes to have [samples, colors, W, H]\n",
        "\n"
      ]
    },
    {
      "cell_type": "markdown",
      "metadata": {
        "id": "PtYA4aBlciEs"
      },
      "source": [
        "# Cnn-1 data generator"
      ]
    },
    {
      "cell_type": "code",
      "execution_count": null,
      "metadata": {
        "id": "E2wJCDnmciEs"
      },
      "outputs": [],
      "source": [
        "from joblib import Parallel, delayed\n",
        "import os\n",
        "import numpy as np\n",
        "import mne\n",
        "import pandas as pd\n",
        "from datetime import datetime\n",
        "\n",
        "def process_dataset(name, dataset_dir, output_directory, map_dict, sfreq=500):\n",
        "    data_path = os.path.join(dataset_dir, f\"{name}.fif\")\n",
        "    raw = mne.io.read_raw_fif(data_path, preload=True)\n",
        "    freqs = (50, 100, 150)\n",
        "    raw.notch_filter(freqs=freqs, method='spectrum_fit', n_jobs=1)\n",
        "    raw.filter(l_freq=0.5, h_freq=None)  # High-pass\n",
        "    raw.filter(l_freq=None, h_freq=45.0)  # Low-pass\n",
        "    raw.filter(l_freq=1.0, h_freq=40.0)  # Band-pass\n",
        "    raw_eeg = raw.pick_types(meg=False, eeg=True)\n",
        "    epochs = mne.make_fixed_length_epochs(raw_eeg, duration=20.0, overlap=18.0, proj=True)\n",
        "\n",
        "    labels = {}\n",
        "    current_time = datetime.now().strftime(\"%Y%m%d_%H%M%S\")  # Get current date and time\n",
        "    for epoch_index, epoch in enumerate(epochs):\n",
        "        epoch_features = [yasa.bandpower(np.array([ch_data]), sf=sfreq)[['Alpha', 'Beta', 'Theta']].values.flatten()\n",
        "                          for ch_data in epoch]\n",
        "        features = np.array(epoch_features).reshape(1, -1)  # Adjust shape based on your gen_images function\n",
        "        img = gen_images(features)\n",
        "        img = img.transpose((0, 3, 2, 1))\n",
        "        unique_identifier = f\"{name}_img{epoch_index}_{current_time}\"\n",
        "        _path = os.path.join(output_directory, f\"{unique_identifier}.npy\")\n",
        "        np.save(_path, img[0])\n",
        "        labels[unique_identifier] = map_dict[name]\n",
        "\n",
        "    return labels"
      ]
    },
    {
      "cell_type": "code",
      "execution_count": null,
      "metadata": {
        "id": "PD9_s65OciEs",
        "outputId": "db3c8538-5a6d-4467-97d0-1df2881f9a7c"
      },
      "outputs": [
        {
          "name": "stdout",
          "output_type": "stream",
          "text": [
            "Labels saved to cnn2_labels.csv\n"
          ]
        }
      ],
      "source": [
        "data_path = \"C:\\\\Users\\\\Administrator\\\\Downloads\\\\dataset\"# Here put the path of the dataset, the raw data barely preprocessed. I already provide the code in the first notebook\n",
        "out_dir = \"C:\\\\Users\\\\Administrator\\\\Downloads\\\\cnn_2_data\"# put here the output data namely where the function gonna store the processed data\n",
        "# Parallel execution and collecting labels\n",
        "all_labels = Parallel(n_jobs=-1)(delayed(process_dataset)(name, data_path, out_dir, mapping, sfreq=500) for name in mapping.keys())\n",
        "\n",
        "# Flatten the list of dictionaries into a single dictionary\n",
        "final_labels = {k: v for d in all_labels for k, v in d.items()}\n",
        "\n",
        "# Convert dictionary to DataFrame and save as CSV\n",
        "label_df = pd.DataFrame(list(final_labels.items()), columns=['Image', 'Label'])\n",
        "label_df.to_csv('cnn2_labels.csv', index=False)\n",
        "\n",
        "print(\"Labels saved to cnn2_labels.csv\")"
      ]
    },
    {
      "cell_type": "code",
      "execution_count": null,
      "metadata": {
        "id": "vOnE2sb0ciEt"
      },
      "outputs": [],
      "source": [
        "pth_1 = os.path.join(out_dir,\"zle_img60_20240419_040042.npy\")\n",
        "pth_2 = os.path.join(out_dir,\"zle_img0_20240419_040042.npy\")\n",
        "im1 = np.load(pth_1)\n",
        "im2 = np.load(pth_2)"
      ]
    },
    {
      "cell_type": "code",
      "execution_count": null,
      "metadata": {
        "id": "uX6BdJ4ZciEt",
        "outputId": "74eaa4f7-88d6-4680-ffb2-4df1e5fa9aba"
      },
      "outputs": [
        {
          "name": "stderr",
          "output_type": "stream",
          "text": [
            "19-Apr-24 04:39:10 | WARNING | Clipping input data to the valid range for imshow with RGB data ([0..1] for floats or [0..255] for integers).\n"
          ]
        },
        {
          "data": {
            "image/png": "[encoded data removed]",
            "text/plain": [
              "<Figure size 640x480 with 1 Axes>"
            ]
          },
          "metadata": {},
          "output_type": "display_data"
        },
        {
          "name": "stderr",
          "output_type": "stream",
          "text": [
            "19-Apr-24 04:39:10 | WARNING | Clipping input data to the valid range for imshow with RGB data ([0..1] for floats or [0..255] for integers).\n"
          ]
        },
        {
          "data": {
            "image/png": "[encoded data removed]",
            "text/plain": [
              "<Figure size 640x480 with 1 Axes>"
            ]
          },
          "metadata": {},
          "output_type": "display_data"
        }
      ],
      "source": [
        "plot_image(im1)\n",
        "plot_image(im2)"
      ]
    }
  ],
  "metadata": {
    "kernelspec": {
      "display_name": "base",
      "language": "python",
      "name": "python3"
    },
    "language_info": {
      "codemirror_mode": {
        "name": "ipython",
        "version": 3
      },
      "file_extension": ".py",
      "mimetype": "text/x-python",
      "name": "python",
      "nbconvert_exporter": "python",
      "pygments_lexer": "ipython3",
      "version": "3.10.10"
    },
    "colab": {
      "provenance": []
    }
  },
  "nbformat": 4,
  "nbformat_minor": 0
}