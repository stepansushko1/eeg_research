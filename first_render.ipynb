{
  "cells": [
    {
      "cell_type": "markdown",
      "metadata": {
        "id": "wGUk1p8abx_0"
      },
      "source": [
        "# FIRST NOTEBOOK TO TEST MOST IMPORTANT FEATURES"
      ]
    },
    {
      "cell_type": "markdown",
      "metadata": {
        "id": "Dum-pjHibx_3"
      },
      "source": [
        "## SETTING LOGGING LEVEL TO CRITICAL"
      ]
    },
    {
      "cell_type": "code",
      "execution_count": null,
      "metadata": {
        "id": "7Yl8wsKHbx_4"
      },
      "outputs": [],
      "source": [
        "import logging\n",
        "import mne\n",
        "\n",
        "# Get the MNE logger\n",
        "mne_logger = logging.getLogger('mne')\n",
        "\n",
        "# Set the MNE logger level to CRITICAL\n",
        "mne_logger.setLevel(logging.CRITICAL)\n",
        "\n",
        "# Now MNE will only log critical messages\n"
      ]
    },
    {
      "cell_type": "markdown",
      "metadata": {
        "id": "T0TN8n7nbx_5"
      },
      "source": [
        "# Generate image function"
      ]
    },
    {
      "cell_type": "markdown",
      "metadata": {
        "id": "4tbqqN8Dbx_5"
      },
      "source": [
        "## Azimuthal projection and image resolution"
      ]
    },
    {
      "cell_type": "code",
      "execution_count": null,
      "metadata": {
        "id": "C-_1F4ZVbx_6"
      },
      "outputs": [],
      "source": [
        "import numpy as np\n",
        "AZ_PROJ_VALUE = np.array([\n",
        "    [-0.0309026, 0.11458518],\n",
        "    [0.02840949, 0.11534631],\n",
        "    [-0.05180905, 0.0866879],\n",
        "    [0.05027427, 0.08743839],\n",
        "    [-0.07187663, 0.07310353],\n",
        "    [0.07143526, 0.07450512],\n",
        "    [-0.08598209, 0.01487164],\n",
        "    [0.08326136, 0.01525818],\n",
        "    [-0.06714873, 0.02335823],\n",
        "    [0.06532887, 0.0235731],\n",
        "    [-0.07445797, -0.04212316],\n",
        "    [0.07103246, -0.04225998],\n",
        "    [-0.05503824, -0.0442103],\n",
        "    [0.05363601, -0.04433453],\n",
        "    [-0.03157357, -0.08056835],\n",
        "    [0.02768309, -0.08048884],\n",
        "    [-0.00122928, 0.09327445],\n",
        "    [-0.00137414, 0.02761709],\n",
        "    [-0.00170945, -0.04521299]\n",
        "])\n",
        "IMG_RESOLUTION = 64"
      ]
    },
    {
      "cell_type": "markdown",
      "metadata": {
        "id": "gcUfaozlbx_6"
      },
      "source": [
        "## EEG signal to 2D azimuthal images function"
      ]
    },
    {
      "cell_type": "code",
      "execution_count": null,
      "metadata": {
        "id": "BRBYGy3nbx_6"
      },
      "outputs": [],
      "source": [
        "from sklearn.preprocessing import scale\n",
        "from scipy.interpolate import griddata\n",
        "def augment_EEG(features, std_mult, pca=False, n_components=2):\n",
        "    # Placeholder for EEG data augmentation logic.\n",
        "    pass\n",
        "\n",
        "def gen_images(features,locs=AZ_PROJ_VALUE, n_gridpoints = IMG_RESOLUTION, normalize=True,\n",
        "               augment=False, pca=False, std_mult=0.1, n_components=2, edgeless=False):\n",
        "    \"\"\"\n",
        "    Generates EEG images given electrode locations in 2D space and multiple feature values for each electrode\n",
        "\n",
        "    :param locs: An array with shape [n_electrodes, 2] containing X, Y\n",
        "                        coordinates for each electrode.\n",
        "    :param features: Feature matrix as [n_samples, n_features]\n",
        "                                Features are as columns.\n",
        "                                Features corresponding to each frequency band are concatenated.\n",
        "                                (alpha1, alpha2, ..., beta1, beta2,...)\n",
        "    :param n_gridpoints: Number of pixels in the output images\n",
        "    :param normalize:   Flag for whether to normalize each band over all samples\n",
        "    :param augment:     Flag for generating augmented images\n",
        "    :param pca:         Flag for PCA based data augmentation\n",
        "    :param std_mult     Multiplier for std of added noise\n",
        "    :param n_components: Number of components in PCA to retain for augmentation\n",
        "    :param edgeless:    If True generates edgeless images by adding artificial channels\n",
        "                        at four corners of the image with value = 0 (default=False).\n",
        "    :return:            Tensor of size [samples, colors, W, H] containing generated\n",
        "                        images.\n",
        "    \"\"\"\n",
        "    feat_array_temp = []\n",
        "    nElectrodes = locs.shape[0]  # Number of electrodes\n",
        "    # Test whether the feature vector length is divisible by number of electrodes\n",
        "    assert features.shape[1] % nElectrodes == 0\n",
        "    n_colors = features.shape[1] // nElectrodes\n",
        "    for c in range(int(n_colors)):\n",
        "        feat_array_temp.append(features[:, c * nElectrodes: nElectrodes * (c + 1)])\n",
        "\n",
        "    nSamples = features.shape[0]\n",
        "    # Interpolate the values\n",
        "    grid_x, grid_y = np.mgrid[\n",
        "                     min(locs[:, 0]):max(locs[:, 0]):n_gridpoints * 1j,\n",
        "                     min(locs[:, 1]):max(locs[:, 1]):n_gridpoints * 1j\n",
        "                     ]\n",
        "    temp_interp = []\n",
        "    for c in range(n_colors):\n",
        "        temp_interp.append(np.zeros([nSamples, n_gridpoints, n_gridpoints]))\n",
        "    # Generate edgeless images\n",
        "    if edgeless:\n",
        "        min_x, min_y = np.min(locs, axis=0)\n",
        "        max_x, max_y = np.max(locs, axis=0)\n",
        "        locs = np.append(locs, np.array([[min_x, min_y], [min_x, max_y], [max_x, min_y], [max_x, max_y]]), axis=0)\n",
        "        for c in range(n_colors):\n",
        "            feat_array_temp[c] = np.append(feat_array_temp[c], np.zeros((nSamples, 4)), axis=1)\n",
        "    # Interpolating\n",
        "    for i in range(nSamples):\n",
        "        for c in range(n_colors):\n",
        "            temp_interp[c][i, :, :] = griddata(locs, feat_array_temp[c][i, :], (grid_x, grid_y),\n",
        "                                               method='cubic', fill_value=np.nan)\n",
        "        print('Interpolating {0}/{1}\\r'.format(i + 1, nSamples), end='\\r')\n",
        "    # Normalizing\n",
        "    for c in range(n_colors):\n",
        "        if normalize:\n",
        "            temp_interp[c][~np.isnan(temp_interp[c])] = \\\n",
        "                scale(temp_interp[c][~np.isnan(temp_interp[c])])\n",
        "        temp_interp[c] = np.nan_to_num(temp_interp[c])\n",
        "    return np.swapaxes(np.asarray(temp_interp), 0, 1)  # swap axes to have [samples, colors, W, H]\n",
        "\n"
      ]
    },
    {
      "cell_type": "markdown",
      "metadata": {
        "id": "O5oZl_dRbx_7"
      },
      "source": [
        "## Data strategy for models LSTM-CNN1 & LSTM-CNN2"
      ]
    },
    {
      "cell_type": "markdown",
      "metadata": {
        "id": "bmWHLPQBbx_7"
      },
      "source": [
        "## Helpers function"
      ]
    },
    {
      "cell_type": "code",
      "execution_count": null,
      "metadata": {
        "id": "EBN3oSjtbx_7"
      },
      "outputs": [],
      "source": [
        "def classify_attribute(value, classification_dict):\n",
        "    \"\"\"\n",
        "    Classifies a value based on ranges provided in a dictionary.\n",
        "\n",
        "    Parameters:\n",
        "    - value: The attribute value to classify.\n",
        "    - classification_dict: A dictionary where keys are class labels and values are tuples representing the range (inclusive).\n",
        "\n",
        "    Returns:\n",
        "    - A class label as a string.\n",
        "    \"\"\"\n",
        "    for label, (min_val, max_val) in classification_dict.items():\n",
        "        if min_val <= value <= max_val:\n",
        "            return label\n",
        "    return 'Undefined'  # If value doesn't fit any provided range\n"
      ]
    },
    {
      "cell_type": "code",
      "execution_count": null,
      "metadata": {
        "id": "3UVM6jPSbx_8"
      },
      "outputs": [],
      "source": [
        "def map_name_to_attribute(df, name_col, attr_col):\n",
        "    \"\"\"\n",
        "    Takes a DataFrame and returns a dictionary mapping names to their corresponding attribute values.\n",
        "\n",
        "    Parameters:\n",
        "    - df: DataFrame containing at least the columns specified by `name_col` and `attr_col`.\n",
        "    - name_col: The name of the column containing the names.\n",
        "    - attr_col: The name of the column containing the attribute to map.\n",
        "\n",
        "    Returns:\n",
        "    - A dictionary with names as keys and attribute values as values.\n",
        "    \"\"\"\n",
        "    # Extract the relevant columns and drop any rows with missing values\n",
        "    relevant_df = df[[name_col, attr_col]].dropna()\n",
        "    # Convert to dictionary\n",
        "    attribute_dict = dict(zip(relevant_df[name_col], relevant_df[attr_col]))\n",
        "\n",
        "    return attribute_dict\n"
      ]
    },
    {
      "cell_type": "markdown",
      "metadata": {
        "id": "cPpTn8Eybx_8"
      },
      "source": [
        "## Create mapping using the above function"
      ]
    },
    {
      "cell_type": "markdown",
      "metadata": {
        "id": "t94pi5Ilbx_8"
      },
      "source": [
        "### Load data frame"
      ]
    },
    {
      "cell_type": "code",
      "execution_count": null,
      "metadata": {
        "id": "SFvm5gvbbx_9"
      },
      "outputs": [],
      "source": [
        "import pandas as pd\n",
        "mapping_file = \"labels.xlsx\"\n",
        "df = pd.read_excel(mapping_file, skiprows=1)"
      ]
    },
    {
      "cell_type": "code",
      "execution_count": null,
      "metadata": {
        "id": "dT8R50RPbx_9",
        "outputId": "e15fad47-bb26-4c2b-f688-a81ee1f5bc25"
      },
      "outputs": [
        {
          "data": {
            "text/html": [
              "<div>\n",
              "<style scoped>\n",
              "    .dataframe tbody tr th:only-of-type {\n",
              "        vertical-align: middle;\n",
              "    }\n",
              "\n",
              "    .dataframe tbody tr th {\n",
              "        vertical-align: top;\n",
              "    }\n",
              "\n",
              "    .dataframe thead th {\n",
              "        text-align: right;\n",
              "    }\n",
              "</style>\n",
              "<table border=\"1\" class=\"dataframe\">\n",
              "  <thead>\n",
              "    <tr style=\"text-align: right;\">\n",
              "      <th></th>\n",
              "      <th>ФИО</th>\n",
              "      <th>Д.р.</th>\n",
              "      <th>пол</th>\n",
              "      <th>курс/работа</th>\n",
              "      <th>заполнения</th>\n",
              "      <th>уровень невротизации</th>\n",
              "      <th>feelings</th>\n",
              "      <th>daydreaming</th>\n",
              "      <th>analytic</th>\n",
              "      <th>factor 1 (Difficulty Identifying Feelings)</th>\n",
              "      <th>...</th>\n",
              "      <th>ЭмоцИстощ</th>\n",
              "      <th>Деперсонализация</th>\n",
              "      <th>Редукция Личн.Достиж</th>\n",
              "      <th>burnout_MBI</th>\n",
              "      <th>Индекс СХУ</th>\n",
              "      <th>СФД</th>\n",
              "      <th>С0СКД</th>\n",
              "      <th>НЭАС</th>\n",
              "      <th>СМИССО</th>\n",
              "      <th>Уровень депрессии</th>\n",
              "    </tr>\n",
              "  </thead>\n",
              "  <tbody>\n",
              "    <tr>\n",
              "      <th>0</th>\n",
              "      <td>azo</td>\n",
              "      <td>1990-06-29</td>\n",
              "      <td>М</td>\n",
              "      <td>1 курс, пси, КНУ</td>\n",
              "      <td>2010-03-19</td>\n",
              "      <td>33.0</td>\n",
              "      <td>43.0</td>\n",
              "      <td>9.0</td>\n",
              "      <td>12.0</td>\n",
              "      <td>36.0</td>\n",
              "      <td>...</td>\n",
              "      <td>NaN</td>\n",
              "      <td>NaN</td>\n",
              "      <td>NaN</td>\n",
              "      <td>NaN</td>\n",
              "      <td>NaN</td>\n",
              "      <td>NaN</td>\n",
              "      <td>NaN</td>\n",
              "      <td>NaN</td>\n",
              "      <td>NaN</td>\n",
              "      <td>NaN</td>\n",
              "    </tr>\n",
              "    <tr>\n",
              "      <th>1</th>\n",
              "      <td>ale</td>\n",
              "      <td>1992-07-13</td>\n",
              "      <td>Ж</td>\n",
              "      <td>1 курс, пси, КНУ</td>\n",
              "      <td>2010-03-19</td>\n",
              "      <td>24.0</td>\n",
              "      <td>32.0</td>\n",
              "      <td>10.0</td>\n",
              "      <td>12.0</td>\n",
              "      <td>25.0</td>\n",
              "      <td>...</td>\n",
              "      <td>21.0</td>\n",
              "      <td>9.0</td>\n",
              "      <td>34.0</td>\n",
              "      <td>64.0</td>\n",
              "      <td>25.0</td>\n",
              "      <td>6.0</td>\n",
              "      <td>9.0</td>\n",
              "      <td>7.0</td>\n",
              "      <td>3.0</td>\n",
              "      <td>NaN</td>\n",
              "    </tr>\n",
              "    <tr>\n",
              "      <th>2</th>\n",
              "      <td>andri</td>\n",
              "      <td>1990-07-08</td>\n",
              "      <td>Ж</td>\n",
              "      <td>3 курс, микробиол., БФ, КНУ</td>\n",
              "      <td>2011-05-21</td>\n",
              "      <td>27.0</td>\n",
              "      <td>40.0</td>\n",
              "      <td>12.0</td>\n",
              "      <td>21.0</td>\n",
              "      <td>30.0</td>\n",
              "      <td>...</td>\n",
              "      <td>38.0</td>\n",
              "      <td>16.0</td>\n",
              "      <td>26.0</td>\n",
              "      <td>80.0</td>\n",
              "      <td>46.0</td>\n",
              "      <td>17.0</td>\n",
              "      <td>14.0</td>\n",
              "      <td>7.0</td>\n",
              "      <td>8.0</td>\n",
              "      <td>29.0</td>\n",
              "    </tr>\n",
              "    <tr>\n",
              "      <th>3</th>\n",
              "      <td>andru</td>\n",
              "      <td>1993-01-17</td>\n",
              "      <td>Ж</td>\n",
              "      <td>2 курс, биофак, КНУ</td>\n",
              "      <td>2011-05-29</td>\n",
              "      <td>16.0</td>\n",
              "      <td>36.0</td>\n",
              "      <td>10.0</td>\n",
              "      <td>21.0</td>\n",
              "      <td>27.0</td>\n",
              "      <td>...</td>\n",
              "      <td>20.0</td>\n",
              "      <td>12.0</td>\n",
              "      <td>14.0</td>\n",
              "      <td>46.0</td>\n",
              "      <td>16.0</td>\n",
              "      <td>4.0</td>\n",
              "      <td>3.0</td>\n",
              "      <td>6.0</td>\n",
              "      <td>3.0</td>\n",
              "      <td>44.0</td>\n",
              "    </tr>\n",
              "    <tr>\n",
              "      <th>4</th>\n",
              "      <td>bas</td>\n",
              "      <td>1994-07-31</td>\n",
              "      <td>Ж</td>\n",
              "      <td>1 курс, пси, КНУ</td>\n",
              "      <td>2012-03-19</td>\n",
              "      <td>17.0</td>\n",
              "      <td>42.0</td>\n",
              "      <td>11.0</td>\n",
              "      <td>12.0</td>\n",
              "      <td>36.0</td>\n",
              "      <td>...</td>\n",
              "      <td>20.0</td>\n",
              "      <td>14.0</td>\n",
              "      <td>30.0</td>\n",
              "      <td>64.0</td>\n",
              "      <td>25.0</td>\n",
              "      <td>10.0</td>\n",
              "      <td>5.0</td>\n",
              "      <td>7.0</td>\n",
              "      <td>3.0</td>\n",
              "      <td>42.0</td>\n",
              "    </tr>\n",
              "    <tr>\n",
              "      <th>...</th>\n",
              "      <td>...</td>\n",
              "      <td>...</td>\n",
              "      <td>...</td>\n",
              "      <td>...</td>\n",
              "      <td>...</td>\n",
              "      <td>...</td>\n",
              "      <td>...</td>\n",
              "      <td>...</td>\n",
              "      <td>...</td>\n",
              "      <td>...</td>\n",
              "      <td>...</td>\n",
              "      <td>...</td>\n",
              "      <td>...</td>\n",
              "      <td>...</td>\n",
              "      <td>...</td>\n",
              "      <td>...</td>\n",
              "      <td>...</td>\n",
              "      <td>...</td>\n",
              "      <td>...</td>\n",
              "      <td>...</td>\n",
              "      <td>...</td>\n",
              "    </tr>\n",
              "    <tr>\n",
              "      <th>252</th>\n",
              "      <td>yur</td>\n",
              "      <td>1993-05-24</td>\n",
              "      <td>Ж</td>\n",
              "      <td>2 курс, Ин-т журн., КНУ</td>\n",
              "      <td>2011-11-14</td>\n",
              "      <td>20.0</td>\n",
              "      <td>19.0</td>\n",
              "      <td>9.0</td>\n",
              "      <td>15.0</td>\n",
              "      <td>15.0</td>\n",
              "      <td>...</td>\n",
              "      <td>23.0</td>\n",
              "      <td>11.0</td>\n",
              "      <td>28.0</td>\n",
              "      <td>62.0</td>\n",
              "      <td>20.0</td>\n",
              "      <td>13.0</td>\n",
              "      <td>1.0</td>\n",
              "      <td>2.0</td>\n",
              "      <td>4.0</td>\n",
              "      <td>27.0</td>\n",
              "    </tr>\n",
              "    <tr>\n",
              "      <th>253</th>\n",
              "      <td>yurc</td>\n",
              "      <td>1995-03-19</td>\n",
              "      <td>Ж</td>\n",
              "      <td>1 курс, пси, КНУ</td>\n",
              "      <td>2012-11-21</td>\n",
              "      <td>27.0</td>\n",
              "      <td>NaN</td>\n",
              "      <td>NaN</td>\n",
              "      <td>NaN</td>\n",
              "      <td>NaN</td>\n",
              "      <td>...</td>\n",
              "      <td>28.0</td>\n",
              "      <td>15.0</td>\n",
              "      <td>32.0</td>\n",
              "      <td>75.0</td>\n",
              "      <td>34.0</td>\n",
              "      <td>11.0</td>\n",
              "      <td>10.0</td>\n",
              "      <td>10.0</td>\n",
              "      <td>3.0</td>\n",
              "      <td>29.0</td>\n",
              "    </tr>\n",
              "    <tr>\n",
              "      <th>254</th>\n",
              "      <td>yak</td>\n",
              "      <td>1988-07-04</td>\n",
              "      <td>М</td>\n",
              "      <td>4 курс, зоолог, КНУ, инженер</td>\n",
              "      <td>2010-04-19</td>\n",
              "      <td>18.0</td>\n",
              "      <td>33.0</td>\n",
              "      <td>11.0</td>\n",
              "      <td>15.0</td>\n",
              "      <td>22.0</td>\n",
              "      <td>...</td>\n",
              "      <td>37.0</td>\n",
              "      <td>22.0</td>\n",
              "      <td>30.0</td>\n",
              "      <td>89.0</td>\n",
              "      <td>38.0</td>\n",
              "      <td>7.0</td>\n",
              "      <td>15.0</td>\n",
              "      <td>9.0</td>\n",
              "      <td>7.0</td>\n",
              "      <td>NaN</td>\n",
              "    </tr>\n",
              "    <tr>\n",
              "      <th>255</th>\n",
              "      <td>yar</td>\n",
              "      <td>1994-11-26</td>\n",
              "      <td>Ж</td>\n",
              "      <td>1 курс, пси, КНУ</td>\n",
              "      <td>2012-11-02</td>\n",
              "      <td>16.0</td>\n",
              "      <td>41.0</td>\n",
              "      <td>9.0</td>\n",
              "      <td>16.0</td>\n",
              "      <td>33.0</td>\n",
              "      <td>...</td>\n",
              "      <td>32.0</td>\n",
              "      <td>14.0</td>\n",
              "      <td>25.0</td>\n",
              "      <td>71.0</td>\n",
              "      <td>41.0</td>\n",
              "      <td>10.0</td>\n",
              "      <td>14.0</td>\n",
              "      <td>10.0</td>\n",
              "      <td>7.0</td>\n",
              "      <td>18.0</td>\n",
              "    </tr>\n",
              "    <tr>\n",
              "      <th>256</th>\n",
              "      <td>yas</td>\n",
              "      <td>1992-07-20</td>\n",
              "      <td>Ж</td>\n",
              "      <td>1 курс, пси, КНУ</td>\n",
              "      <td>2010-06-16</td>\n",
              "      <td>21.0</td>\n",
              "      <td>51.0</td>\n",
              "      <td>9.0</td>\n",
              "      <td>20.0</td>\n",
              "      <td>40.0</td>\n",
              "      <td>...</td>\n",
              "      <td>34.0</td>\n",
              "      <td>11.0</td>\n",
              "      <td>32.0</td>\n",
              "      <td>77.0</td>\n",
              "      <td>42.0</td>\n",
              "      <td>14.0</td>\n",
              "      <td>13.0</td>\n",
              "      <td>10.0</td>\n",
              "      <td>5.0</td>\n",
              "      <td>NaN</td>\n",
              "    </tr>\n",
              "  </tbody>\n",
              "</table>\n",
              "<p>257 rows × 40 columns</p>\n",
              "</div>"
            ],
            "text/plain": [
              "       ФИО       Д.р. пол                   курс/работа заполнения  \\\n",
              "0      azo 1990-06-29   М              1 курс, пси, КНУ 2010-03-19   \n",
              "1      ale 1992-07-13   Ж              1 курс, пси, КНУ 2010-03-19   \n",
              "2    andri 1990-07-08   Ж   3 курс, микробиол., БФ, КНУ 2011-05-21   \n",
              "3    andru 1993-01-17   Ж           2 курс, биофак, КНУ 2011-05-29   \n",
              "4      bas 1994-07-31   Ж              1 курс, пси, КНУ 2012-03-19   \n",
              "..     ...        ...  ..                           ...        ...   \n",
              "252    yur 1993-05-24   Ж       2 курс, Ин-т журн., КНУ 2011-11-14   \n",
              "253   yurc 1995-03-19   Ж              1 курс, пси, КНУ 2012-11-21   \n",
              "254    yak 1988-07-04   М  4 курс, зоолог, КНУ, инженер 2010-04-19   \n",
              "255    yar 1994-11-26   Ж              1 курс, пси, КНУ 2012-11-02   \n",
              "256    yas 1992-07-20   Ж              1 курс, пси, КНУ 2010-06-16   \n",
              "\n",
              "     уровень невротизации  feelings  daydreaming  analytic  \\\n",
              "0                    33.0      43.0          9.0      12.0   \n",
              "1                    24.0      32.0         10.0      12.0   \n",
              "2                    27.0      40.0         12.0      21.0   \n",
              "3                    16.0      36.0         10.0      21.0   \n",
              "4                    17.0      42.0         11.0      12.0   \n",
              "..                    ...       ...          ...       ...   \n",
              "252                  20.0      19.0          9.0      15.0   \n",
              "253                  27.0       NaN          NaN       NaN   \n",
              "254                  18.0      33.0         11.0      15.0   \n",
              "255                  16.0      41.0          9.0      16.0   \n",
              "256                  21.0      51.0          9.0      20.0   \n",
              "\n",
              "     factor 1 (Difficulty Identifying Feelings)  ...  ЭмоцИстощ  \\\n",
              "0                                          36.0  ...        NaN   \n",
              "1                                          25.0  ...       21.0   \n",
              "2                                          30.0  ...       38.0   \n",
              "3                                          27.0  ...       20.0   \n",
              "4                                          36.0  ...       20.0   \n",
              "..                                          ...  ...        ...   \n",
              "252                                        15.0  ...       23.0   \n",
              "253                                         NaN  ...       28.0   \n",
              "254                                        22.0  ...       37.0   \n",
              "255                                        33.0  ...       32.0   \n",
              "256                                        40.0  ...       34.0   \n",
              "\n",
              "     Деперсонализация  Редукция Личн.Достиж  burnout_MBI  Индекс СХУ   СФД  \\\n",
              "0                 NaN                   NaN          NaN         NaN   NaN   \n",
              "1                 9.0                  34.0         64.0        25.0   6.0   \n",
              "2                16.0                  26.0         80.0        46.0  17.0   \n",
              "3                12.0                  14.0         46.0        16.0   4.0   \n",
              "4                14.0                  30.0         64.0        25.0  10.0   \n",
              "..                ...                   ...          ...         ...   ...   \n",
              "252              11.0                  28.0         62.0        20.0  13.0   \n",
              "253              15.0                  32.0         75.0        34.0  11.0   \n",
              "254              22.0                  30.0         89.0        38.0   7.0   \n",
              "255              14.0                  25.0         71.0        41.0  10.0   \n",
              "256              11.0                  32.0         77.0        42.0  14.0   \n",
              "\n",
              "     С0СКД  НЭАС  СМИССО  Уровень депрессии  \n",
              "0      NaN   NaN     NaN                NaN  \n",
              "1      9.0   7.0     3.0                NaN  \n",
              "2     14.0   7.0     8.0               29.0  \n",
              "3      3.0   6.0     3.0               44.0  \n",
              "4      5.0   7.0     3.0               42.0  \n",
              "..     ...   ...     ...                ...  \n",
              "252    1.0   2.0     4.0               27.0  \n",
              "253   10.0  10.0     3.0               29.0  \n",
              "254   15.0   9.0     7.0                NaN  \n",
              "255   14.0  10.0     7.0               18.0  \n",
              "256   13.0  10.0     5.0                NaN  \n",
              "\n",
              "[257 rows x 40 columns]"
            ]
          },
          "execution_count": 23,
          "metadata": {},
          "output_type": "execute_result"
        }
      ],
      "source": [
        "df"
      ]
    },
    {
      "cell_type": "code",
      "execution_count": null,
      "metadata": {
        "id": "mOgjsJKzbx_9",
        "outputId": "4be56df7-c20b-483a-9fd6-738ea00e745d"
      },
      "outputs": [
        {
          "data": {
            "text/html": [
              "<div>\n",
              "<style scoped>\n",
              "    .dataframe tbody tr th:only-of-type {\n",
              "        vertical-align: middle;\n",
              "    }\n",
              "\n",
              "    .dataframe tbody tr th {\n",
              "        vertical-align: top;\n",
              "    }\n",
              "\n",
              "    .dataframe thead th {\n",
              "        text-align: right;\n",
              "    }\n",
              "</style>\n",
              "<table border=\"1\" class=\"dataframe\">\n",
              "  <thead>\n",
              "    <tr style=\"text-align: right;\">\n",
              "      <th></th>\n",
              "      <th>ФИО</th>\n",
              "      <th>Напряжение</th>\n",
              "      <th>Резистенция</th>\n",
              "      <th>Истощение</th>\n",
              "      <th>burnout_Boiko</th>\n",
              "    </tr>\n",
              "  </thead>\n",
              "  <tbody>\n",
              "    <tr>\n",
              "      <th>0</th>\n",
              "      <td>azo</td>\n",
              "      <td>36.0</td>\n",
              "      <td>66.0</td>\n",
              "      <td>33.0</td>\n",
              "      <td>135.0</td>\n",
              "    </tr>\n",
              "    <tr>\n",
              "      <th>1</th>\n",
              "      <td>ale</td>\n",
              "      <td>17.0</td>\n",
              "      <td>30.0</td>\n",
              "      <td>17.0</td>\n",
              "      <td>64.0</td>\n",
              "    </tr>\n",
              "    <tr>\n",
              "      <th>2</th>\n",
              "      <td>andri</td>\n",
              "      <td>60.0</td>\n",
              "      <td>62.0</td>\n",
              "      <td>87.0</td>\n",
              "      <td>209.0</td>\n",
              "    </tr>\n",
              "    <tr>\n",
              "      <th>3</th>\n",
              "      <td>andru</td>\n",
              "      <td>19.0</td>\n",
              "      <td>67.0</td>\n",
              "      <td>40.0</td>\n",
              "      <td>126.0</td>\n",
              "    </tr>\n",
              "    <tr>\n",
              "      <th>4</th>\n",
              "      <td>bas</td>\n",
              "      <td>16.0</td>\n",
              "      <td>53.0</td>\n",
              "      <td>34.0</td>\n",
              "      <td>103.0</td>\n",
              "    </tr>\n",
              "  </tbody>\n",
              "</table>\n",
              "</div>"
            ],
            "text/plain": [
              "     ФИО  Напряжение  Резистенция  Истощение  burnout_Boiko\n",
              "0    azo        36.0         66.0       33.0          135.0\n",
              "1    ale        17.0         30.0       17.0           64.0\n",
              "2  andri        60.0         62.0       87.0          209.0\n",
              "3  andru        19.0         67.0       40.0          126.0\n",
              "4    bas        16.0         53.0       34.0          103.0"
            ]
          },
          "execution_count": 24,
          "metadata": {},
          "output_type": "execute_result"
        }
      ],
      "source": [
        "col_interest = ['ФИО','Напряжение','Резистенция','Истощение','burnout_Boiko'] # add more columns if you want\n",
        "df = df[col_interest]\n",
        "df.head()"
      ]
    },
    {
      "cell_type": "markdown",
      "metadata": {
        "id": "J0iPbT4Zbx_-"
      },
      "source": [
        "### Handling missing values"
      ]
    },
    {
      "cell_type": "code",
      "execution_count": null,
      "metadata": {
        "id": "2nfRP0UJbx_-",
        "outputId": "7f7f774e-acea-4d1e-9532-aaa191459c8c"
      },
      "outputs": [
        {
          "name": "stdout",
          "output_type": "stream",
          "text": [
            "Shape before dropping missing values: (257, 5)\n"
          ]
        }
      ],
      "source": [
        "print(f\"Shape before dropping missing values: {df.shape}\")\n",
        "df = df.dropna()"
      ]
    },
    {
      "cell_type": "code",
      "execution_count": null,
      "metadata": {
        "id": "CDsQIFXkbx_-",
        "outputId": "365a3f8d-9be8-4ccc-866a-32da7d5549a1"
      },
      "outputs": [
        {
          "name": "stdout",
          "output_type": "stream",
          "text": [
            "Shape after dropping missing values: (254, 5)\n"
          ]
        }
      ],
      "source": [
        "print(f\"Shape after dropping missing values: {df.shape}\")"
      ]
    },
    {
      "cell_type": "code",
      "execution_count": null,
      "metadata": {
        "id": "aTJkFCrVbx_-"
      },
      "outputs": [],
      "source": [
        "df.rename(columns={'ФИО': 'name', 'Напряжение': 'tension', 'Резистенция' : 'resistance', 'Истощение' : 'exhaustion', 'burnout_Boiko': 'Boiko'}, inplace=True)"
      ]
    },
    {
      "cell_type": "code",
      "execution_count": null,
      "metadata": {
        "id": "OQAvOQBnbx_-",
        "outputId": "855df51d-34b8-450e-e159-10db4da0e7af"
      },
      "outputs": [
        {
          "data": {
            "text/html": [
              "<div>\n",
              "<style scoped>\n",
              "    .dataframe tbody tr th:only-of-type {\n",
              "        vertical-align: middle;\n",
              "    }\n",
              "\n",
              "    .dataframe tbody tr th {\n",
              "        vertical-align: top;\n",
              "    }\n",
              "\n",
              "    .dataframe thead th {\n",
              "        text-align: right;\n",
              "    }\n",
              "</style>\n",
              "<table border=\"1\" class=\"dataframe\">\n",
              "  <thead>\n",
              "    <tr style=\"text-align: right;\">\n",
              "      <th></th>\n",
              "      <th>name</th>\n",
              "      <th>tension</th>\n",
              "      <th>resistance</th>\n",
              "      <th>exhaustion</th>\n",
              "      <th>Boiko</th>\n",
              "    </tr>\n",
              "  </thead>\n",
              "  <tbody>\n",
              "    <tr>\n",
              "      <th>0</th>\n",
              "      <td>azo</td>\n",
              "      <td>36.0</td>\n",
              "      <td>66.0</td>\n",
              "      <td>33.0</td>\n",
              "      <td>135.0</td>\n",
              "    </tr>\n",
              "    <tr>\n",
              "      <th>1</th>\n",
              "      <td>ale</td>\n",
              "      <td>17.0</td>\n",
              "      <td>30.0</td>\n",
              "      <td>17.0</td>\n",
              "      <td>64.0</td>\n",
              "    </tr>\n",
              "    <tr>\n",
              "      <th>2</th>\n",
              "      <td>andri</td>\n",
              "      <td>60.0</td>\n",
              "      <td>62.0</td>\n",
              "      <td>87.0</td>\n",
              "      <td>209.0</td>\n",
              "    </tr>\n",
              "    <tr>\n",
              "      <th>3</th>\n",
              "      <td>andru</td>\n",
              "      <td>19.0</td>\n",
              "      <td>67.0</td>\n",
              "      <td>40.0</td>\n",
              "      <td>126.0</td>\n",
              "    </tr>\n",
              "    <tr>\n",
              "      <th>4</th>\n",
              "      <td>bas</td>\n",
              "      <td>16.0</td>\n",
              "      <td>53.0</td>\n",
              "      <td>34.0</td>\n",
              "      <td>103.0</td>\n",
              "    </tr>\n",
              "    <tr>\n",
              "      <th>...</th>\n",
              "      <td>...</td>\n",
              "      <td>...</td>\n",
              "      <td>...</td>\n",
              "      <td>...</td>\n",
              "      <td>...</td>\n",
              "    </tr>\n",
              "    <tr>\n",
              "      <th>252</th>\n",
              "      <td>yur</td>\n",
              "      <td>28.0</td>\n",
              "      <td>65.0</td>\n",
              "      <td>46.0</td>\n",
              "      <td>139.0</td>\n",
              "    </tr>\n",
              "    <tr>\n",
              "      <th>253</th>\n",
              "      <td>yurc</td>\n",
              "      <td>43.0</td>\n",
              "      <td>68.0</td>\n",
              "      <td>42.0</td>\n",
              "      <td>153.0</td>\n",
              "    </tr>\n",
              "    <tr>\n",
              "      <th>254</th>\n",
              "      <td>yak</td>\n",
              "      <td>44.0</td>\n",
              "      <td>91.0</td>\n",
              "      <td>66.0</td>\n",
              "      <td>201.0</td>\n",
              "    </tr>\n",
              "    <tr>\n",
              "      <th>255</th>\n",
              "      <td>yar</td>\n",
              "      <td>28.0</td>\n",
              "      <td>61.0</td>\n",
              "      <td>66.0</td>\n",
              "      <td>155.0</td>\n",
              "    </tr>\n",
              "    <tr>\n",
              "      <th>256</th>\n",
              "      <td>yas</td>\n",
              "      <td>82.0</td>\n",
              "      <td>72.0</td>\n",
              "      <td>57.0</td>\n",
              "      <td>211.0</td>\n",
              "    </tr>\n",
              "  </tbody>\n",
              "</table>\n",
              "<p>254 rows × 5 columns</p>\n",
              "</div>"
            ],
            "text/plain": [
              "      name  tension  resistance  exhaustion  Boiko\n",
              "0      azo     36.0        66.0        33.0  135.0\n",
              "1      ale     17.0        30.0        17.0   64.0\n",
              "2    andri     60.0        62.0        87.0  209.0\n",
              "3    andru     19.0        67.0        40.0  126.0\n",
              "4      bas     16.0        53.0        34.0  103.0\n",
              "..     ...      ...         ...         ...    ...\n",
              "252    yur     28.0        65.0        46.0  139.0\n",
              "253   yurc     43.0        68.0        42.0  153.0\n",
              "254    yak     44.0        91.0        66.0  201.0\n",
              "255    yar     28.0        61.0        66.0  155.0\n",
              "256    yas     82.0        72.0        57.0  211.0\n",
              "\n",
              "[254 rows x 5 columns]"
            ]
          },
          "execution_count": 28,
          "metadata": {},
          "output_type": "execute_result"
        }
      ],
      "source": [
        "df"
      ]
    },
    {
      "cell_type": "markdown",
      "metadata": {
        "id": "eoaBF-_dbx__"
      },
      "source": [
        "### Create a dictionnary of name and target(s) data"
      ]
    },
    {
      "cell_type": "code",
      "execution_count": null,
      "metadata": {
        "id": "GJunkoeibx__",
        "outputId": "8a1e05f8-2963-4e42-e921-ad0feae19439"
      },
      "outputs": [
        {
          "name": "stdout",
          "output_type": "stream",
          "text": [
            "{'azo': 33.0, 'ale': 17.0, 'andri': 87.0, 'andru': 40.0, 'bas': 34.0, 'bat': 67.0, 'bev': 8.0, 'bez': 13.0, 'bezk': 5.0, 'bel': 3.0, 'belon': 15.0, 'bela': 33.0, 'ber': 46.0, 'bil': 51.0, 'bog': 9.0, 'bod': 23.0, 'bol': 42.0, 'bols': 72.0, 'bon': 22.0, 'bond': 17.0, 'bor': 19.0, 'vas': 67.0, 'vasi': 40.0, 'vla': 24.0, 'vov': 27.0, 'vos': 40.0, 'gav': 10.0, 'ger': 38.0, 'gob': 18.0, 'goz': 11.0, 'gol': 63.0, 'golo': 19.0, 'golos': 25.0, 'gor': 8.0, 'gorl': 61.0, 'goro': 60.0, 'goro_1': 29.0, 'gre': 28.0, 'gret': 45.0, 'gri': 20.0, 'grig': 5.0, 'gris': 25.0, 'gro': 15.0, 'guz': 46.0, 'gur': 21.0, 'den': 55.0, 'der': 28.0, 'der_1': 19.0, 'dzh': 65.0, 'did': 16.0, 'dor': 27.0, 'dro': 27.0, 'eme': 31.0, 'emet': 54.0, 'ere': 42.0, 'esk': 15.0, 'zhe': 35.0, 'zhi': 39.0, 'zab': 29.0, 'zab_1': 41.0, 'zad': 43.0, 'zai': 46.0, 'zak': 18.0, 'zay': 15.0, 'zle': 5.0, 'zor': 50.0, 'zub': 30.0, 'zia': 37.0, 'iva': 15.0, 'ivan': 32.0, 'ivanu': 39.0, 'ivas': 22.0, 'ido': 39.0, 'kak': 11.0, 'kal': 23.0, 'kam': 16.0, 'kap': 23.0, 'kar': 7.0, 'kard': 80.0, 'kas': 28.0, 'kel': 35.0, 'kir': 33.0, 'kis': 48.0, 'kli': 15.0, 'klo': 16.0, 'kov': 38.0, 'kova': 26.0, 'koval': 5.0, 'kovali': 32.0, 'kovall': 29.0, 'koz': 25.0, 'kol': 5.0, 'kolt': 64.0, 'kon': 70.0, 'kor': 32.0, 'koro': 17.0, 'koro_1': 5.0, 'koros': 43.0, 'kos': 20.0, 'kot': 20.0, 'kra': 42.0, 'kravc': 47.0, 'kru': 41.0, 'kruc': 32.0, 'kruc_1': 15.0, 'kuz': 12.0, 'kui': 6.0, 'kup': 10.0, 'kur': 39.0, 'kut': 38.0, 'kus': 75.0, 'lag': 23.0, 'lap': 54.0, 'leh': 5.0, 'lob': 32.0, 'loba': 42.0, 'loz': 12.0, 'lus': 47.0, 'lus_1': 70.0, 'lys': 22.0, 'lub': 38.0, 'lia': 27.0, 'mae': 23.0, 'may': 33.0, 'mak': 18.0, 'maka': 37.0, 'mal': 27.0, 'mar': 21.0, 'mary': 23.0, 'mary_1': 20.0, 'mart': 21.0, 'marty': 77.0, 'mev': 56.0, 'mel': 35.0, 'men': 56.0, 'mil': 20.0, 'mih': 20.0, 'mih_1': 15.0, 'miha': 67.0, 'muz': 34.0, 'muzy': 47.0, 'murz': 29.0, 'mys': 33.0, 'naz': 30.0, 'nau': 35.0, 'neb': 44.0, 'nek': 3.0, 'nem': 25.0, 'net': 27.0, 'nec': 17.0, 'niz': 47.0, 'nov': 31.0, 'ogo': 8.0, 'oze': 35.0, 'ozi': 66.0, 'ost': 12.0, 'ohr': 63.0, 'pab': 8.0, 'pal': 43.0, 'pas': 29.0, 'pes': 37.0, 'pet': 15.0, 'petr': 10.0, 'pis': 23.0, 'pih': 23.0, 'pla': 50.0, 'pod': 47.0, 'pol': 40.0, 'poli': 15.0, 'pon': 17.0, 'pop': 30.0, 'por': 47.0, 'pos': 15.0, 'pri': 112.0, 'pro': 17.0, 'pui': 13.0, 'pus': 10.0, 'pust': 51.0, 'pse': 46.0, 'roz': 12.0, 'rok': 31.0, 'rom': 42.0, 'ros': 32.0, 'rud': 34.0, 'run': 10.0, 'run_1': 22.0, 'sap': 24.0, 'saps': 39.0, 'saf': 12.0, 'sva': 38.0, 'sed': 13.0, 'sem': 38.0, 'sen': 79.0, 'siz': 23.0, 'sin': 44.0, 'sir': 20.0, 'sko': 19.0, 'slo': 60.0, 'smi': 43.0, 'smo': 49.0, 'sok': 77.0, 'soku': 60.0, 'sol': 44.0, 'sor': 24.0, 'sor_1': 17.0, 'sos': 55.0, 'ste': 32.0, 'sti': 56.0, 'sus': 18.0, 'tar': 13.0, 'tat': 45.0, 'tel': 15.0, 'telc': 20.0, 'tka': 32.0, 'tut': 25.0, 'uva': 22.0, 'uko': 30.0, 'use': 32.0, 'usei': 85.0, 'ust': 12.0, 'fed': 24.0, 'fer': 50.0, 'fis': 46.0, 'hal': 3.0, 'har': 33.0, 'har_1': 29.0, 'cel': 37.0, 'cha': 29.0, 'che': 69.0, 'cher': 48.0, 'cher_1': 59.0, 'chern': 79.0, 'cherny': 18.0, 'chernys': 62.0, 'cherni': 30.0, 'sheb': 54.0, 'shev': 62.0, 'shevc': 13.0, 'sher': 37.0, 'shea': 62.0, 'shik': 27.0, 'shis': 41.0, 'shk': 18.0, 'shku': 29.0, 'shl': 46.0, 'shp': 5.0, 'shu': 85.0, 'shus': 28.0, 'sch': 82.0, 'yur': 46.0, 'yurc': 42.0, 'yak': 66.0, 'yar': 66.0, 'yas': 57.0}\n"
          ]
        }
      ],
      "source": [
        "\n",
        "# Map names to exhaustion\n",
        "name_to_exhaustion = map_name_to_attribute(df, 'name', 'exhaustion')\n",
        "print(name_to_exhaustion)"
      ]
    },
    {
      "cell_type": "code",
      "execution_count": null,
      "metadata": {
        "id": "faOGE0Uvbx__",
        "outputId": "50696157-a9c1-4740-ff46-5b4e9755865d"
      },
      "outputs": [
        {
          "data": {
            "text/html": [
              "<div>\n",
              "<style scoped>\n",
              "    .dataframe tbody tr th:only-of-type {\n",
              "        vertical-align: middle;\n",
              "    }\n",
              "\n",
              "    .dataframe tbody tr th {\n",
              "        vertical-align: top;\n",
              "    }\n",
              "\n",
              "    .dataframe thead th {\n",
              "        text-align: right;\n",
              "    }\n",
              "</style>\n",
              "<table border=\"1\" class=\"dataframe\">\n",
              "  <thead>\n",
              "    <tr style=\"text-align: right;\">\n",
              "      <th></th>\n",
              "      <th>name</th>\n",
              "      <th>tension</th>\n",
              "      <th>resistance</th>\n",
              "      <th>exhaustion</th>\n",
              "      <th>Boiko</th>\n",
              "      <th>exhaustion_class</th>\n",
              "    </tr>\n",
              "  </thead>\n",
              "  <tbody>\n",
              "    <tr>\n",
              "      <th>0</th>\n",
              "      <td>azo</td>\n",
              "      <td>36.0</td>\n",
              "      <td>66.0</td>\n",
              "      <td>33.0</td>\n",
              "      <td>135.0</td>\n",
              "      <td>Active Phase</td>\n",
              "    </tr>\n",
              "    <tr>\n",
              "      <th>1</th>\n",
              "      <td>ale</td>\n",
              "      <td>17.0</td>\n",
              "      <td>30.0</td>\n",
              "      <td>17.0</td>\n",
              "      <td>64.0</td>\n",
              "      <td>Not Diagnosed</td>\n",
              "    </tr>\n",
              "    <tr>\n",
              "      <th>2</th>\n",
              "      <td>andri</td>\n",
              "      <td>60.0</td>\n",
              "      <td>62.0</td>\n",
              "      <td>87.0</td>\n",
              "      <td>209.0</td>\n",
              "      <td>Mental Issue</td>\n",
              "    </tr>\n",
              "    <tr>\n",
              "      <th>3</th>\n",
              "      <td>andru</td>\n",
              "      <td>19.0</td>\n",
              "      <td>67.0</td>\n",
              "      <td>40.0</td>\n",
              "      <td>126.0</td>\n",
              "      <td>Active Phase</td>\n",
              "    </tr>\n",
              "    <tr>\n",
              "      <th>4</th>\n",
              "      <td>bas</td>\n",
              "      <td>16.0</td>\n",
              "      <td>53.0</td>\n",
              "      <td>34.0</td>\n",
              "      <td>103.0</td>\n",
              "      <td>Active Phase</td>\n",
              "    </tr>\n",
              "  </tbody>\n",
              "</table>\n",
              "</div>"
            ],
            "text/plain": [
              "    name  tension  resistance  exhaustion  Boiko exhaustion_class\n",
              "0    azo     36.0        66.0        33.0  135.0     Active Phase\n",
              "1    ale     17.0        30.0        17.0   64.0    Not Diagnosed\n",
              "2  andri     60.0        62.0        87.0  209.0     Mental Issue\n",
              "3  andru     19.0        67.0        40.0  126.0     Active Phase\n",
              "4    bas     16.0        53.0        34.0  103.0     Active Phase"
            ]
          },
          "execution_count": 30,
          "metadata": {},
          "output_type": "execute_result"
        }
      ],
      "source": [
        "# Define classification dictionary\n",
        "classification_ranges = {\n",
        "    'Not Diagnosed': (0, 31),\n",
        "    'Active Phase': (32, 60),\n",
        "    'Mental Issue': (61, 500)# val_max = 500\n",
        "}\n",
        "# Apply classification to all entries\n",
        "df['exhaustion_class'] = df['exhaustion'].apply(lambda x: classify_attribute(x, classification_ranges))\n",
        "df.head()\n"
      ]
    },
    {
      "cell_type": "code",
      "execution_count": null,
      "metadata": {
        "id": "TqFmJVqHbyAA",
        "outputId": "62ae1070-69f7-4a0b-a5a9-da6d57679977"
      },
      "outputs": [
        {
          "ename": "NameError",
          "evalue": "name 'map_name_to_attribute' is not defined",
          "output_type": "error",
          "traceback": [
            "\u001b[0;31m---------------------------------------------------------------------------\u001b[0m",
            "\u001b[0;31mNameError\u001b[0m                                 Traceback (most recent call last)",
            "Cell \u001b[0;32mIn[10], line 1\u001b[0m\n\u001b[0;32m----> 1\u001b[0m name_to_label \u001b[38;5;241m=\u001b[39m \u001b[43mmap_name_to_attribute\u001b[49m(df, \u001b[38;5;124m'\u001b[39m\u001b[38;5;124mname\u001b[39m\u001b[38;5;124m'\u001b[39m, \u001b[38;5;124m'\u001b[39m\u001b[38;5;124mexhaustion_class\u001b[39m\u001b[38;5;124m'\u001b[39m)\n",
            "\u001b[0;31mNameError\u001b[0m: name 'map_name_to_attribute' is not defined"
          ]
        }
      ],
      "source": [
        "name_to_label = map_name_to_attribute(df, 'name', 'exhaustion_class')"
      ]
    },
    {
      "cell_type": "markdown",
      "metadata": {
        "id": "yhIzYi6RbyAA"
      },
      "source": [
        "###"
      ]
    },
    {
      "cell_type": "markdown",
      "metadata": {
        "id": "rfPUX6gPbyAA"
      },
      "source": [
        "Let's see how the `exhaustion class` is distributed in our data."
      ]
    },
    {
      "cell_type": "code",
      "execution_count": null,
      "metadata": {
        "id": "AFIGBrz3byAA",
        "outputId": "80ed0ff6-3625-4dbc-9be1-03bb4e179986"
      },
      "outputs": [
        {
          "data": {
            "image/png": "[encoded data removed]",
            "text/plain": [
              "<Figure size 640x480 with 1 Axes>"
            ]
          },
          "metadata": {},
          "output_type": "display_data"
        }
      ],
      "source": [
        "import matplotlib.pyplot as plt\n",
        "\n",
        "# Create a bar plot of the exhaustion_class column\n",
        "df['exhaustion_class'].value_counts().plot(kind='bar')\n",
        "plt.title('Exhaustion Class Distribution')\n",
        "plt.xlabel('Exhaustion Class')\n",
        "plt.ylabel('Count')\n",
        "plt.show()"
      ]
    },
    {
      "cell_type": "markdown",
      "metadata": {
        "id": "qLjfdFanbyAB"
      },
      "source": [
        "## Directory organization"
      ]
    },
    {
      "cell_type": "code",
      "execution_count": null,
      "metadata": {
        "id": "uAQNw1WJbyAB"
      },
      "outputs": [],
      "source": [
        "dataset_dir =\"EEG_DATA\"\n",
        "output_dir = \"dataset\"\n",
        "channel_mapping = {\n",
        "            'EEG Fp1': 'Fp1',\n",
        "            'EEG Fp2': 'Fp2',\n",
        "            'EEG F3': 'F3',\n",
        "            'EEG F4': 'F4',\n",
        "            'EEG F7': 'F7',\n",
        "            'EEG F8': 'F8',\n",
        "            'EEG T3': 'T3',\n",
        "            'EEG T4': 'T4',\n",
        "            'EEG C3': 'C3',\n",
        "            'EEG C4': 'C4',\n",
        "            'EEG T5': 'T5',\n",
        "            'EEG T6': 'T6',\n",
        "            'EEG P3': 'P3',\n",
        "            'EEG P4': 'P4',\n",
        "            'EEG O1': 'O1',\n",
        "            'EEG O2': 'O2',\n",
        "            'EEG Fz': 'Fz',\n",
        "            'EEG Cz': 'Cz',\n",
        "            'EEG Pz': 'Pz'\n",
        "        }\n",
        "channel_types = {'EEG A2-A1': 'misc','ECG ECG': 'ecg'}"
      ]
    },
    {
      "cell_type": "code",
      "execution_count": null,
      "metadata": {
        "id": "dKIGYvDxbyAC"
      },
      "outputs": [],
      "source": [
        "import os\n",
        "import mne\n",
        "import numpy as np\n",
        "import logging\n",
        "\n",
        "# Set up logging\n",
        "logger = logging.getLogger(__name__)\n",
        "logger.setLevel(logging.CRITICAL)\n",
        "\n",
        "# Define log formatter\n",
        "formatter = logging.Formatter('%(asctime)s - %(levelname)s - %(message)s')\n",
        "\n",
        "# Create file handler and set level and formatter\n",
        "file_handler = logging.FileHandler('my_log_file.log')\n",
        "file_handler.setLevel(logging.CRITICAL)\n",
        "file_handler.setFormatter(formatter)\n",
        "\n",
        "# Create stream handler and set level\n",
        "stream_handler = logging.StreamHandler()\n",
        "stream_handler.setLevel(logging.INFO)\n",
        "\n",
        "# Add handlers to logger\n",
        "logger.addHandler(file_handler)\n",
        "logger.addHandler(stream_handler)\n",
        "\n",
        "class EEGPreprocessor:\n",
        "    \"\"\"\n",
        "    A class for preprocessing EEG data.\n",
        "\n",
        "    Attributes:\n",
        "        raw_file_path (str): Path to the raw EEG file.\n",
        "        output_dir (str): Path to the output directory.\n",
        "        montage_system (str): Montage system to be used.\n",
        "        misc_channels (dict): List of miscellaneous channels to be removed.\n",
        "        channel_mapping (dict): A dictionary mapping old channel names to new channel names.\n",
        "                                The keys are the original channel names and the values are the new channel names.\n",
        "        channel_types (dict): A dictionary containing the channel names as keys and the corresponding channel type as value.\n",
        "\n",
        "    Methods:\n",
        "        load_eeg(): Load the raw EEG data.\n",
        "        save_processed_file(): Save the processed EEG data.\n",
        "        set_montage(): Set the montage for the EEG data.\n",
        "        set_channel_names(): Map the names of the channels in the raw dataset to new names.\n",
        "        set_channel_types(): Define the types of each channel in the EEG data.\n",
        "        get_raw(): Return the raw EEG data.\n",
        "        get_preprocessed(): Return the preprocessed EEG data.\n",
        "        fit(): Placeholder method for model fitting (not implemented).\n",
        "    \"\"\"\n",
        "\n",
        "    def __init__(self, raw_file_path, output_dir, channel_types=None, channel_mapping=None,\n",
        "                 montage_system='standard_1020'):\n",
        "        \"\"\"\n",
        "        Initialize the EEGPreprocessor class.\n",
        "\n",
        "        Parameters:\n",
        "            raw_file_path (str): Path to the raw EEG file.\n",
        "            output_dir (str): Path to the output directory.\n",
        "            montage_system (str): Montage system to be used.\n",
        "            misc_channels (list): List of miscellaneous channels to be removed.\n",
        "        \"\"\"\n",
        "        self.raw_file_path = raw_file_path\n",
        "        self.output_dir = output_dir\n",
        "        self.montage_system = montage_system\n",
        "        self.__raw = None\n",
        "        self.__preprocessed_signal = None\n",
        "        self.channel_mapping = channel_mapping\n",
        "        self.channel_types = channel_types\n",
        "\n",
        "    def load_eeg(self):\n",
        "        \"\"\"\n",
        "        Load the raw EEG data.\n",
        "        \"\"\"\n",
        "        logger.info(f\"Loading raw EEG data from {self.raw_file_path}\")\n",
        "        self.__raw = mne.io.read_raw(self.raw_file_path, preload=True)\n",
        "\n",
        "    def save_processed_file(self):\n",
        "        \"\"\"\n",
        "        Save the preprocessed EEG data.\n",
        "        \"\"\"\n",
        "        if self.__preprocessed_signal is None:\n",
        "            raise ValueError(\"No preprocessed data to save. Please preprocess the data first.\")\n",
        "\n",
        "        logger.info(f\"Saving processed EEG data to {self.output_dir}\")\n",
        "        filename = f\"{os.path.basename(self.raw_file_path).split('.')[0]}.fif\"\n",
        "        file_path = os.path.join(self.output_dir, filename)\n",
        "        self.__preprocessed_signal.save(file_path, overwrite=True)\n",
        "\n",
        "\n",
        "    def set_channel_names(self):\n",
        "        \"\"\"\n",
        "        Map the names of the channels in the raw dataset to new names.\n",
        "        \"\"\"\n",
        "        logger.info('Mapping Channel Names')\n",
        "        if not isinstance(self.channel_mapping, dict):\n",
        "            raise ValueError('Channel mapping must be a dictionary')\n",
        "\n",
        "        try:\n",
        "            self.__preprocessed_signal=self.__raw.rename_channels(self.channel_mapping)\n",
        "        except Exception as e:\n",
        "            print(e)\n",
        "            raise TypeError('Provided channel map does not match data')\n",
        "\n",
        "    def set_montage(self):\n",
        "        \"\"\"\n",
        "        Set the montage for the EEG data.\n",
        "        \"\"\"\n",
        "        logger.info(f\"Setting montage to {self.montage_system}\")\n",
        "        try:\n",
        "            montage = mne.channels.make_standard_montage(self.montage_system)\n",
        "            self.__preprocessed_signal.set_montage(montage)\n",
        "        except Exception as e:\n",
        "            print(e)\n",
        "            raise ValueError(\"Invalid channels name for the system\")\n",
        "\n",
        "    def set_channel_types(self):\n",
        "        \"\"\"\n",
        "        Define the types of each channel in the EEG data.\n",
        "        \"\"\"\n",
        "        logger.info('Defining channel types')\n",
        "        if not isinstance(self.channel_types, dict):\n",
        "            raise ValueError('Channel mapping must be a dictionary')\n",
        "        try:\n",
        "            self.__preprocessed_signal.set_channel_types(self.channel_types, verbose=None)\n",
        "        except Exception as e:\n",
        "            print(e)\n",
        "            raise ValueError('The provided type mapping does not match the data')\n",
        "\n",
        "    def get_raw(self):\n",
        "        \"\"\"\n",
        "        Returns the raw EEG data.\n",
        "        \"\"\"\n",
        "        return self.__raw\n",
        "\n",
        "    def get_preprocessed(self):\n",
        "        \"\"\"\n",
        "        Returns the preprocessed EEG data.\n",
        "        \"\"\"\n",
        "        return self.__preprocessed_signal\n",
        "\n",
        "    def fit(self):\n",
        "        \"\"\"\n",
        "        Preprocess EEG data and save the processed file.\n",
        "\n",
        "        This method executes the preprocessing steps including loading EEG data, setting channel names,\n",
        "        setting channel types, setting montage, and saving the processed file.\n",
        "\n",
        "        Raises:\n",
        "            ValueError: If there is no preprocessed data to save.\n",
        "        \"\"\"\n",
        "        try:\n",
        "            # Load raw EEG data\n",
        "            self.load_eeg()\n",
        "\n",
        "            # Set channel names\n",
        "            if self.channel_mapping:\n",
        "                self.set_channel_names()\n",
        "\n",
        "            # Set channel types\n",
        "            if self.channel_types:\n",
        "                self.set_channel_types()\n",
        "\n",
        "            # Set montage\n",
        "            self.set_montage()\n",
        "\n",
        "            # Save processed file\n",
        "            self.save_processed_file()\n",
        "\n",
        "            logger.info(\"Preprocessing completed successfully.\")\n",
        "        except Exception as e:\n",
        "            logger.error(f\"Error occurred during preprocessing: {str(e)}\")\n",
        "            raise\n",
        "\n"
      ]
    },
    {
      "cell_type": "code",
      "execution_count": null,
      "metadata": {
        "id": "0osqovz7byAC",
        "outputId": "90d6c1a6-417e-4cbb-f3db-8023ce948522"
      },
      "outputs": [
        {
          "name": "stdout",
          "output_type": "stream",
          "text": [
            "Extracting EDF parameters from /Users/stepansusko/Programming/Azimuthal/EEG_DATA/azo.edf...\n",
            "EDF file detected\n",
            "Setting channel info structure...\n",
            "Creating raw.info structure...\n",
            "Reading 0 ... 172111  =      0.000 ...   344.222 secs...\n"
          ]
        }
      ],
      "source": [
        "a = mne.io.read_raw(\"EEG_DATA/azo.edf\", preload=True)"
      ]
    },
    {
      "cell_type": "code",
      "execution_count": null,
      "metadata": {
        "id": "iIGYkcBzbyAD"
      },
      "outputs": [],
      "source": [
        "import mne"
      ]
    },
    {
      "cell_type": "code",
      "execution_count": null,
      "metadata": {
        "id": "k9FqXuebbyAD"
      },
      "outputs": [],
      "source": [
        "persons = [os.path.join(dataset_dir,f\"{name}.edf\") for name,_ in name_to_label.items()]\n",
        "for person in persons:\n",
        "    eeg_data = EEGPreprocessor(raw_file_path=person, output_dir=output_dir, channel_types=channel_types, channel_mapping=channel_mapping,\n",
        "                 montage_system='standard_1020')\n",
        "                 # Fit the data\n",
        "    eeg_data.fit()"
      ]
    },
    {
      "cell_type": "code",
      "execution_count": null,
      "metadata": {
        "id": "tu9e3f0qbyAF",
        "outputId": "caaea39e-0670-4e96-f3ca-95d364f0e4af"
      },
      "outputs": [
        {
          "name": "stderr",
          "output_type": "stream",
          "text": [
            "Clipping input data to the valid range for imshow with RGB data ([0..1] for floats or [0..255] for integers).\n",
            "Clipping input data to the valid range for imshow with RGB data ([0..1] for floats or [0..255] for integers).\n",
            "Clipping input data to the valid range for imshow with RGB data ([0..1] for floats or [0..255] for integers).\n"
          ]
        },
        {
          "data": {
            "image/png": "[encoded data removed]",
            "text/plain": [
              "<Figure size 1000x500 with 3 Axes>"
            ]
          },
          "metadata": {},
          "output_type": "display_data"
        }
      ],
      "source": [
        "import matplotlib.pyplot as plt\n",
        "import numpy as np\n",
        "# Create a figure with 3 subplots\n",
        "fig, axs = plt.subplots(1, 3, figsize=(10, 5))\n",
        "\n",
        "# Plot the first array\n",
        "axs[0].imshow(person_1[0])\n",
        "axs[0].set_title(f'{subject_1[0]} : {classes[0]}')\n",
        "\n",
        "# Plot the second array\n",
        "axs[1].imshow(person_2[0])\n",
        "axs[1].set_title(f'{subject_2[1]} : {classes[1]}')\n",
        "\n",
        "# Plot the third array\n",
        "axs[2].imshow(person_3[0])\n",
        "axs[2].set_title(f'{subject_3[2]} : {classes[2]}')\n",
        "\n",
        "plt.show()"
      ]
    }
  ],
  "metadata": {
    "kernelspec": {
      "display_name": "base",
      "language": "python",
      "name": "python3"
    },
    "language_info": {
      "codemirror_mode": {
        "name": "ipython",
        "version": 3
      },
      "file_extension": ".py",
      "mimetype": "text/x-python",
      "name": "python",
      "nbconvert_exporter": "python",
      "pygments_lexer": "ipython3",
      "version": "3.11.4"
    },
    "colab": {
      "provenance": []
    }
  },
  "nbformat": 4,
  "nbformat_minor": 0
}